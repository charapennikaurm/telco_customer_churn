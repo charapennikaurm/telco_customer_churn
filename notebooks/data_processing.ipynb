{
 "cells": [
  {
   "cell_type": "code",
   "execution_count": 1,
   "id": "fa969ffb",
   "metadata": {},
   "outputs": [],
   "source": [
    "from pyspark.sql import SparkSession, SQLContext\n",
    "from pyspark.sql.dataframe import DataFrame\n",
    "from pyspark.sql.functions import UserDefinedFunction, col, lit\n",
    "import pyspark.sql.functions as F\n",
    "from typing import Dict, Any, List\n",
    "from pyspark.ml.feature import OneHotEncoder, StringIndexer, VectorAssembler, StandardScaler\n",
    "from pyspark.ml.classification import RandomForestClassifier, LogisticRegression\n",
    "from pyspark.ml.evaluation import MulticlassClassificationEvaluator\n",
    "from pyspark.ml.evaluation import MulticlassClassificationEvaluator"
   ]
  },
  {
   "cell_type": "code",
   "execution_count": 2,
   "id": "04fedffa",
   "metadata": {},
   "outputs": [
    {
     "name": "stderr",
     "output_type": "stream",
     "text": [
      "22/04/26 21:31:44 WARN Utils: Your hostname, nbb-173-74a resolves to a loopback address: 127.0.1.1; using 192.168.1.186 instead (on interface wlp0s20f3)\n",
      "22/04/26 21:31:44 WARN Utils: Set SPARK_LOCAL_IP if you need to bind to another address\n",
      "WARNING: An illegal reflective access operation has occurred\n",
      "WARNING: Illegal reflective access by org.apache.spark.unsafe.Platform (file:/home/raman/Work/telco_customer_churn/venv/lib/python3.9/site-packages/pyspark/jars/spark-unsafe_2.12-3.2.1.jar) to constructor java.nio.DirectByteBuffer(long,int)\n",
      "WARNING: Please consider reporting this to the maintainers of org.apache.spark.unsafe.Platform\n",
      "WARNING: Use --illegal-access=warn to enable warnings of further illegal reflective access operations\n",
      "WARNING: All illegal access operations will be denied in a future release\n",
      "Using Spark's default log4j profile: org/apache/spark/log4j-defaults.properties\n",
      "Setting default log level to \"WARN\".\n",
      "To adjust logging level use sc.setLogLevel(newLevel). For SparkR, use setLogLevel(newLevel).\n",
      "22/04/26 21:31:44 WARN NativeCodeLoader: Unable to load native-hadoop library for your platform... using builtin-java classes where applicable\n"
     ]
    }
   ],
   "source": [
    "spark = SparkSession.builder.appName('telco_data_processing').getOrCreate()"
   ]
  },
  {
   "cell_type": "code",
   "execution_count": 3,
   "id": "07afa985",
   "metadata": {},
   "outputs": [],
   "source": [
    "df = spark.read.csv('../data/raw/dataset.csv', header=True)"
   ]
  },
  {
   "cell_type": "code",
   "execution_count": 4,
   "id": "7b2473ba",
   "metadata": {},
   "outputs": [
    {
     "data": {
      "text/plain": [
       "[Row(customerID='7590-VHVEG', gender='Female', SeniorCitizen='0', Partner='Yes', Dependents='No', tenure='1', PhoneService='No', MultipleLines='No phone service', InternetService='DSL', OnlineSecurity='No', OnlineBackup='Yes', DeviceProtection='No', TechSupport='No', StreamingTV='No', StreamingMovies='No', Contract='Month-to-month', PaperlessBilling='Yes', PaymentMethod='Electronic check', MonthlyCharges='29.85', TotalCharges='29.85', Churn='No')]"
      ]
     },
     "execution_count": 4,
     "metadata": {},
     "output_type": "execute_result"
    }
   ],
   "source": [
    "df.take(1)"
   ]
  },
  {
   "cell_type": "markdown",
   "id": "bfd807a7",
   "metadata": {},
   "source": [
    "Unique values for every column"
   ]
  },
  {
   "cell_type": "code",
   "execution_count": 5,
   "id": "2d2524df",
   "metadata": {},
   "outputs": [
    {
     "name": "stdout",
     "output_type": "stream",
     "text": [
      "gender :\n",
      "[Row(gender='Female'), Row(gender='Male')]\n",
      "SeniorCitizen :\n",
      "[Row(SeniorCitizen='0'), Row(SeniorCitizen='1')]\n",
      "Partner :\n",
      "[Row(Partner='No'), Row(Partner='Yes')]\n",
      "Dependents :\n",
      "[Row(Dependents='No'), Row(Dependents='Yes')]\n",
      "PhoneService :\n",
      "[Row(PhoneService='No'), Row(PhoneService='Yes')]\n",
      "MultipleLines :\n",
      "[Row(MultipleLines='No phone service'), Row(MultipleLines='No'), Row(MultipleLines='Yes')]\n",
      "InternetService :\n",
      "[Row(InternetService='Fiber optic'), Row(InternetService='No'), Row(InternetService='DSL')]\n",
      "OnlineSecurity :\n",
      "[Row(OnlineSecurity='No'), Row(OnlineSecurity='Yes'), Row(OnlineSecurity='No internet service')]\n",
      "OnlineBackup :\n",
      "[Row(OnlineBackup='No'), Row(OnlineBackup='Yes'), Row(OnlineBackup='No internet service')]\n",
      "DeviceProtection :\n",
      "[Row(DeviceProtection='No'), Row(DeviceProtection='Yes'), Row(DeviceProtection='No internet service')]\n",
      "TechSupport :\n",
      "[Row(TechSupport='No'), Row(TechSupport='Yes'), Row(TechSupport='No internet service')]\n",
      "StreamingTV :\n",
      "[Row(StreamingTV='No'), Row(StreamingTV='Yes'), Row(StreamingTV='No internet service')]\n",
      "StreamingMovies :\n",
      "[Row(StreamingMovies='No'), Row(StreamingMovies='Yes'), Row(StreamingMovies='No internet service')]\n",
      "Contract :\n",
      "[Row(Contract='Month-to-month'), Row(Contract='One year'), Row(Contract='Two year')]\n",
      "PaperlessBilling :\n",
      "[Row(PaperlessBilling='No'), Row(PaperlessBilling='Yes')]\n",
      "PaymentMethod :\n",
      "[Row(PaymentMethod='Credit card (automatic)'), Row(PaymentMethod='Mailed check'), Row(PaymentMethod='Bank transfer (automatic)'), Row(PaymentMethod='Electronic check')]\n",
      "Churn :\n",
      "[Row(Churn='No'), Row(Churn='Yes')]\n"
     ]
    }
   ],
   "source": [
    "for column in df.columns:\n",
    "    if column in ['tenure', 'MonthlyCharges', 'TotalCharges', 'customerID']:\n",
    "        continue\n",
    "    print(column, \":\")\n",
    "    print(df.select(column).distinct().collect())"
   ]
  },
  {
   "cell_type": "code",
   "execution_count": 6,
   "id": "2822edc2",
   "metadata": {},
   "outputs": [],
   "source": [
    "def make_dummy(df: DataFrame, column: str) -> DataFrame:\n",
    "    data = df\n",
    "    options = data.select(column).distinct().rdd.flatMap(lambda x: x).collect()\n",
    "    options_expr = [F.when(F.col(column) == opt, 1).otherwise(0).alias(f\"{column}_\" + opt) for opt in options]\n",
    "    data = data.select(*data.columns, *options_expr)\n",
    "    data = data.drop(column)\n",
    "    return data"
   ]
  },
  {
   "cell_type": "code",
   "execution_count": 7,
   "id": "4dd2e1db",
   "metadata": {},
   "outputs": [],
   "source": [
    "def make_dummies(df: DataFrame, columns: List[str]) -> DataFrame:\n",
    "    data = df\n",
    "    for column in columns:\n",
    "        data = make_dummy(data, column)\n",
    "    return data"
   ]
  },
  {
   "cell_type": "code",
   "execution_count": 9,
   "id": "5239e611",
   "metadata": {},
   "outputs": [
    {
     "data": {
      "text/plain": [
       "['PhoneService',\n",
       " 'StreamingTV',\n",
       " 'gender',\n",
       " 'MultipleLines',\n",
       " 'SeniorCitizen',\n",
       " 'Contract',\n",
       " 'Partner',\n",
       " 'DeviceProtection',\n",
       " 'OnlineSecurity',\n",
       " 'StreamingMovies',\n",
       " 'PaperlessBilling',\n",
       " 'Dependents',\n",
       " 'PaymentMethod',\n",
       " 'OnlineBackup',\n",
       " 'TechSupport',\n",
       " 'InternetService']"
      ]
     },
     "execution_count": 9,
     "metadata": {},
     "output_type": "execute_result"
    }
   ],
   "source": [
    "list(set(df.columns)\n",
    "     - set(['tenure', 'MonthlyCharges', 'TotalCharges',\n",
    "            'customerID', 'Churn']))"
   ]
  },
  {
   "cell_type": "code",
   "execution_count": 8,
   "id": "89a4db13",
   "metadata": {},
   "outputs": [],
   "source": [
    "df_dummed = make_dummies(df,list(set(df.columns) - set(['tenure', 'MonthlyCharges', 'TotalCharges', 'customerID', 'Churn']))\n",
    ")"
   ]
  },
  {
   "cell_type": "code",
   "execution_count": 9,
   "id": "93c56f0e",
   "metadata": {},
   "outputs": [
    {
     "name": "stdout",
     "output_type": "stream",
     "text": [
      "root\n",
      " |-- customerID: string (nullable = true)\n",
      " |-- tenure: string (nullable = true)\n",
      " |-- MonthlyCharges: string (nullable = true)\n",
      " |-- TotalCharges: string (nullable = true)\n",
      " |-- Churn: string (nullable = true)\n",
      " |-- SeniorCitizen_0: integer (nullable = false)\n",
      " |-- SeniorCitizen_1: integer (nullable = false)\n",
      " |-- StreamingTV_No: integer (nullable = false)\n",
      " |-- StreamingTV_Yes: integer (nullable = false)\n",
      " |-- StreamingTV_No internet service: integer (nullable = false)\n",
      " |-- OnlineBackup_No: integer (nullable = false)\n",
      " |-- OnlineBackup_Yes: integer (nullable = false)\n",
      " |-- OnlineBackup_No internet service: integer (nullable = false)\n",
      " |-- PaymentMethod_Credit card (automatic): integer (nullable = false)\n",
      " |-- PaymentMethod_Mailed check: integer (nullable = false)\n",
      " |-- PaymentMethod_Bank transfer (automatic): integer (nullable = false)\n",
      " |-- PaymentMethod_Electronic check: integer (nullable = false)\n",
      " |-- Dependents_No: integer (nullable = false)\n",
      " |-- Dependents_Yes: integer (nullable = false)\n",
      " |-- Partner_No: integer (nullable = false)\n",
      " |-- Partner_Yes: integer (nullable = false)\n",
      " |-- InternetService_Fiber optic: integer (nullable = false)\n",
      " |-- InternetService_No: integer (nullable = false)\n",
      " |-- InternetService_DSL: integer (nullable = false)\n",
      " |-- PaperlessBilling_No: integer (nullable = false)\n",
      " |-- PaperlessBilling_Yes: integer (nullable = false)\n",
      " |-- MultipleLines_No phone service: integer (nullable = false)\n",
      " |-- MultipleLines_No: integer (nullable = false)\n",
      " |-- MultipleLines_Yes: integer (nullable = false)\n",
      " |-- gender_Female: integer (nullable = false)\n",
      " |-- gender_Male: integer (nullable = false)\n",
      " |-- StreamingMovies_No: integer (nullable = false)\n",
      " |-- StreamingMovies_Yes: integer (nullable = false)\n",
      " |-- StreamingMovies_No internet service: integer (nullable = false)\n",
      " |-- DeviceProtection_No: integer (nullable = false)\n",
      " |-- DeviceProtection_Yes: integer (nullable = false)\n",
      " |-- DeviceProtection_No internet service: integer (nullable = false)\n",
      " |-- TechSupport_No: integer (nullable = false)\n",
      " |-- TechSupport_Yes: integer (nullable = false)\n",
      " |-- TechSupport_No internet service: integer (nullable = false)\n",
      " |-- OnlineSecurity_No: integer (nullable = false)\n",
      " |-- OnlineSecurity_Yes: integer (nullable = false)\n",
      " |-- OnlineSecurity_No internet service: integer (nullable = false)\n",
      " |-- PhoneService_No: integer (nullable = false)\n",
      " |-- PhoneService_Yes: integer (nullable = false)\n",
      " |-- Contract_Month-to-month: integer (nullable = false)\n",
      " |-- Contract_One year: integer (nullable = false)\n",
      " |-- Contract_Two year: integer (nullable = false)\n",
      "\n"
     ]
    }
   ],
   "source": [
    "df_dummed.printSchema()"
   ]
  },
  {
   "cell_type": "code",
   "execution_count": 10,
   "id": "e6da69f1",
   "metadata": {},
   "outputs": [
    {
     "name": "stderr",
     "output_type": "stream",
     "text": [
      "22/04/26 14:42:37 WARN package: Truncated the string representation of a plan since it was too large. This behavior can be adjusted by setting 'spark.sql.debug.maxToStringFields'.\n"
     ]
    },
    {
     "data": {
      "text/plain": [
       "[Row(customerID='7590-VHVEG', tenure='1', MonthlyCharges='29.85', TotalCharges='29.85', Churn='No', SeniorCitizen_0=1, SeniorCitizen_1=0, StreamingTV_No=1, StreamingTV_Yes=0, StreamingTV_No internet service=0, OnlineBackup_No=0, OnlineBackup_Yes=1, OnlineBackup_No internet service=0, PaymentMethod_Credit card (automatic)=0, PaymentMethod_Mailed check=0, PaymentMethod_Bank transfer (automatic)=0, PaymentMethod_Electronic check=1, Dependents_No=1, Dependents_Yes=0, Partner_No=0, Partner_Yes=1, InternetService_Fiber optic=0, InternetService_No=0, InternetService_DSL=1, PaperlessBilling_No=0, PaperlessBilling_Yes=1, MultipleLines_No phone service=1, MultipleLines_No=0, MultipleLines_Yes=0, gender_Female=1, gender_Male=0, StreamingMovies_No=1, StreamingMovies_Yes=0, StreamingMovies_No internet service=0, DeviceProtection_No=1, DeviceProtection_Yes=0, DeviceProtection_No internet service=0, TechSupport_No=1, TechSupport_Yes=0, TechSupport_No internet service=0, OnlineSecurity_No=1, OnlineSecurity_Yes=0, OnlineSecurity_No internet service=0, PhoneService_No=1, PhoneService_Yes=0, Contract_Month-to-month=1, Contract_One year=0, Contract_Two year=0)]"
      ]
     },
     "execution_count": 10,
     "metadata": {},
     "output_type": "execute_result"
    }
   ],
   "source": [
    "df_dummed.take(1)"
   ]
  },
  {
   "cell_type": "code",
   "execution_count": 11,
   "id": "9c725096",
   "metadata": {},
   "outputs": [],
   "source": [
    "df_dummed = df_dummed.drop('customerID')"
   ]
  },
  {
   "cell_type": "code",
   "execution_count": 16,
   "id": "107b43a3",
   "metadata": {},
   "outputs": [
    {
     "name": "stdout",
     "output_type": "stream",
     "text": [
      "root\n",
      " |-- tenure: integer (nullable = true)\n",
      " |-- MonthlyCharges: double (nullable = true)\n",
      " |-- TotalCharges: double (nullable = true)\n",
      " |-- Churn: string (nullable = true)\n",
      " |-- SeniorCitizen_0: integer (nullable = false)\n",
      " |-- SeniorCitizen_1: integer (nullable = false)\n",
      " |-- StreamingTV_No: integer (nullable = false)\n",
      " |-- StreamingTV_Yes: integer (nullable = false)\n",
      " |-- StreamingTV_No internet service: integer (nullable = false)\n",
      " |-- OnlineBackup_No: integer (nullable = false)\n",
      " |-- OnlineBackup_Yes: integer (nullable = false)\n",
      " |-- OnlineBackup_No internet service: integer (nullable = false)\n",
      " |-- PaymentMethod_Credit card (automatic): integer (nullable = false)\n",
      " |-- PaymentMethod_Mailed check: integer (nullable = false)\n",
      " |-- PaymentMethod_Bank transfer (automatic): integer (nullable = false)\n",
      " |-- PaymentMethod_Electronic check: integer (nullable = false)\n",
      " |-- Dependents_No: integer (nullable = false)\n",
      " |-- Dependents_Yes: integer (nullable = false)\n",
      " |-- Partner_No: integer (nullable = false)\n",
      " |-- Partner_Yes: integer (nullable = false)\n",
      " |-- InternetService_Fiber optic: integer (nullable = false)\n",
      " |-- InternetService_No: integer (nullable = false)\n",
      " |-- InternetService_DSL: integer (nullable = false)\n",
      " |-- PaperlessBilling_No: integer (nullable = false)\n",
      " |-- PaperlessBilling_Yes: integer (nullable = false)\n",
      " |-- MultipleLines_No phone service: integer (nullable = false)\n",
      " |-- MultipleLines_No: integer (nullable = false)\n",
      " |-- MultipleLines_Yes: integer (nullable = false)\n",
      " |-- gender_Female: integer (nullable = false)\n",
      " |-- gender_Male: integer (nullable = false)\n",
      " |-- StreamingMovies_No: integer (nullable = false)\n",
      " |-- StreamingMovies_Yes: integer (nullable = false)\n",
      " |-- StreamingMovies_No internet service: integer (nullable = false)\n",
      " |-- DeviceProtection_No: integer (nullable = false)\n",
      " |-- DeviceProtection_Yes: integer (nullable = false)\n",
      " |-- DeviceProtection_No internet service: integer (nullable = false)\n",
      " |-- TechSupport_No: integer (nullable = false)\n",
      " |-- TechSupport_Yes: integer (nullable = false)\n",
      " |-- TechSupport_No internet service: integer (nullable = false)\n",
      " |-- OnlineSecurity_No: integer (nullable = false)\n",
      " |-- OnlineSecurity_Yes: integer (nullable = false)\n",
      " |-- OnlineSecurity_No internet service: integer (nullable = false)\n",
      " |-- PhoneService_No: integer (nullable = false)\n",
      " |-- PhoneService_Yes: integer (nullable = false)\n",
      " |-- Contract_Month-to-month: integer (nullable = false)\n",
      " |-- Contract_One year: integer (nullable = false)\n",
      " |-- Contract_Two year: integer (nullable = false)\n",
      "\n"
     ]
    }
   ],
   "source": [
    "df_dummed.printSchema()"
   ]
  },
  {
   "cell_type": "code",
   "execution_count": 17,
   "id": "8be495a7",
   "metadata": {},
   "outputs": [],
   "source": [
    "df_dummed = df_dummed.withColumn('tenure', df_dummed.tenure.cast('int'))"
   ]
  },
  {
   "cell_type": "code",
   "execution_count": 18,
   "id": "de289058",
   "metadata": {},
   "outputs": [],
   "source": [
    "df_dummed = df_dummed.withColumn('MonthlyCharges', df_dummed.MonthlyCharges.cast('double'))"
   ]
  },
  {
   "cell_type": "code",
   "execution_count": 19,
   "id": "0715ada9",
   "metadata": {},
   "outputs": [],
   "source": [
    "df_dummed = df_dummed.withColumn('TotalCharges', df_dummed.TotalCharges.cast('double'))"
   ]
  },
  {
   "cell_type": "code",
   "execution_count": 20,
   "id": "250a3d0f",
   "metadata": {},
   "outputs": [],
   "source": [
    "yn_mapping = {'Yes': 1, 'No': 0}\n",
    "map_fn = UserDefinedFunction(lambda x: yn_mapping[x])\n",
    "df_dummed = df_dummed.withColumn('Churn', map_fn('Churn'))"
   ]
  },
  {
   "cell_type": "code",
   "execution_count": 60,
   "id": "7214371b",
   "metadata": {},
   "outputs": [],
   "source": [
    "def map_column_values(df: DataFrame, column: str, mapping: Dict) -> DataFrame:\n",
    "    map_fn = UserDefinedFunction(lambda x: mapping[x])\n",
    "    return df.withColumn(column, map_fn(column))"
   ]
  },
  {
   "cell_type": "code",
   "execution_count": 64,
   "id": "8b7318ca",
   "metadata": {},
   "outputs": [],
   "source": [
    "def change_column_type(df: DataFrame, column: str, new_type: str) -> DataFrame:\n",
    "    return df.withColumn(column, df[column].cast(new_type))"
   ]
  },
  {
   "cell_type": "code",
   "execution_count": 63,
   "id": "1ed4fc11",
   "metadata": {},
   "outputs": [],
   "source": [
    "df_dummed = df_dummed.withColumn('Churn', df_dummed['Churn'].cast('int'))"
   ]
  },
  {
   "cell_type": "code",
   "execution_count": 62,
   "id": "fb2d0d30",
   "metadata": {},
   "outputs": [
    {
     "name": "stdout",
     "output_type": "stream",
     "text": [
      "root\n",
      " |-- tenure: integer (nullable = true)\n",
      " |-- MonthlyCharges: double (nullable = true)\n",
      " |-- TotalCharges: double (nullable = true)\n",
      " |-- Churn: float (nullable = true)\n",
      " |-- SeniorCitizen_0: integer (nullable = false)\n",
      " |-- SeniorCitizen_1: integer (nullable = false)\n",
      " |-- StreamingTV_No: integer (nullable = false)\n",
      " |-- StreamingTV_Yes: integer (nullable = false)\n",
      " |-- StreamingTV_No internet service: integer (nullable = false)\n",
      " |-- OnlineBackup_No: integer (nullable = false)\n",
      " |-- OnlineBackup_Yes: integer (nullable = false)\n",
      " |-- OnlineBackup_No internet service: integer (nullable = false)\n",
      " |-- PaymentMethod_Credit card (automatic): integer (nullable = false)\n",
      " |-- PaymentMethod_Mailed check: integer (nullable = false)\n",
      " |-- PaymentMethod_Bank transfer (automatic): integer (nullable = false)\n",
      " |-- PaymentMethod_Electronic check: integer (nullable = false)\n",
      " |-- Dependents_No: integer (nullable = false)\n",
      " |-- Dependents_Yes: integer (nullable = false)\n",
      " |-- Partner_No: integer (nullable = false)\n",
      " |-- Partner_Yes: integer (nullable = false)\n",
      " |-- InternetService_Fiber optic: integer (nullable = false)\n",
      " |-- InternetService_No: integer (nullable = false)\n",
      " |-- InternetService_DSL: integer (nullable = false)\n",
      " |-- PaperlessBilling_No: integer (nullable = false)\n",
      " |-- PaperlessBilling_Yes: integer (nullable = false)\n",
      " |-- MultipleLines_No phone service: integer (nullable = false)\n",
      " |-- MultipleLines_No: integer (nullable = false)\n",
      " |-- MultipleLines_Yes: integer (nullable = false)\n",
      " |-- gender_Female: integer (nullable = false)\n",
      " |-- gender_Male: integer (nullable = false)\n",
      " |-- StreamingMovies_No: integer (nullable = false)\n",
      " |-- StreamingMovies_Yes: integer (nullable = false)\n",
      " |-- StreamingMovies_No internet service: integer (nullable = false)\n",
      " |-- DeviceProtection_No: integer (nullable = false)\n",
      " |-- DeviceProtection_Yes: integer (nullable = false)\n",
      " |-- DeviceProtection_No internet service: integer (nullable = false)\n",
      " |-- TechSupport_No: integer (nullable = false)\n",
      " |-- TechSupport_Yes: integer (nullable = false)\n",
      " |-- TechSupport_No internet service: integer (nullable = false)\n",
      " |-- OnlineSecurity_No: integer (nullable = false)\n",
      " |-- OnlineSecurity_Yes: integer (nullable = false)\n",
      " |-- OnlineSecurity_No internet service: integer (nullable = false)\n",
      " |-- PhoneService_No: integer (nullable = false)\n",
      " |-- PhoneService_Yes: integer (nullable = false)\n",
      " |-- Contract_Month-to-month: integer (nullable = false)\n",
      " |-- Contract_One year: integer (nullable = false)\n",
      " |-- Contract_Two year: integer (nullable = false)\n",
      "\n"
     ]
    }
   ],
   "source": [
    "df_dummed.printSchema()"
   ]
  },
  {
   "cell_type": "code",
   "execution_count": 27,
   "id": "bf4fd543",
   "metadata": {},
   "outputs": [],
   "source": [
    "df_dummed = df_dummed.replace('?', None).dropna(how='any')"
   ]
  },
  {
   "cell_type": "code",
   "execution_count": 28,
   "id": "28dcf298",
   "metadata": {},
   "outputs": [
    {
     "data": {
      "text/plain": [
       "7032"
      ]
     },
     "execution_count": 28,
     "metadata": {},
     "output_type": "execute_result"
    }
   ],
   "source": [
    "df_dummed.count()"
   ]
  },
  {
   "cell_type": "code",
   "execution_count": 29,
   "id": "d005cf45",
   "metadata": {},
   "outputs": [
    {
     "data": {
      "text/plain": [
       "['tenure',\n",
       " 'MonthlyCharges',\n",
       " 'TotalCharges',\n",
       " 'Churn',\n",
       " 'SeniorCitizen_0',\n",
       " 'SeniorCitizen_1',\n",
       " 'StreamingTV_No',\n",
       " 'StreamingTV_Yes',\n",
       " 'StreamingTV_No internet service',\n",
       " 'OnlineBackup_No',\n",
       " 'OnlineBackup_Yes',\n",
       " 'OnlineBackup_No internet service',\n",
       " 'PaymentMethod_Credit card (automatic)',\n",
       " 'PaymentMethod_Mailed check',\n",
       " 'PaymentMethod_Bank transfer (automatic)',\n",
       " 'PaymentMethod_Electronic check',\n",
       " 'Dependents_No',\n",
       " 'Dependents_Yes',\n",
       " 'Partner_No',\n",
       " 'Partner_Yes',\n",
       " 'InternetService_Fiber optic',\n",
       " 'InternetService_No',\n",
       " 'InternetService_DSL',\n",
       " 'PaperlessBilling_No',\n",
       " 'PaperlessBilling_Yes',\n",
       " 'MultipleLines_No phone service',\n",
       " 'MultipleLines_No',\n",
       " 'MultipleLines_Yes',\n",
       " 'gender_Female',\n",
       " 'gender_Male',\n",
       " 'StreamingMovies_No',\n",
       " 'StreamingMovies_Yes',\n",
       " 'StreamingMovies_No internet service',\n",
       " 'DeviceProtection_No',\n",
       " 'DeviceProtection_Yes',\n",
       " 'DeviceProtection_No internet service',\n",
       " 'TechSupport_No',\n",
       " 'TechSupport_Yes',\n",
       " 'TechSupport_No internet service',\n",
       " 'OnlineSecurity_No',\n",
       " 'OnlineSecurity_Yes',\n",
       " 'OnlineSecurity_No internet service',\n",
       " 'PhoneService_No',\n",
       " 'PhoneService_Yes',\n",
       " 'Contract_Month-to-month',\n",
       " 'Contract_One year',\n",
       " 'Contract_Two year']"
      ]
     },
     "execution_count": 29,
     "metadata": {},
     "output_type": "execute_result"
    }
   ],
   "source": [
    "df_dummed.columns"
   ]
  },
  {
   "cell_type": "code",
   "execution_count": 30,
   "id": "23e43ea4",
   "metadata": {},
   "outputs": [],
   "source": [
    "assembler = VectorAssembler(\n",
    "    inputCols=list(set(df_dummed.columns) - set(['Churn'])),\n",
    "    outputCol='features',\n",
    ")"
   ]
  },
  {
   "cell_type": "code",
   "execution_count": 31,
   "id": "98723dfc",
   "metadata": {},
   "outputs": [],
   "source": [
    "transformed_data = assembler.transform(df_dummed)"
   ]
  },
  {
   "cell_type": "code",
   "execution_count": 32,
   "id": "6a094090",
   "metadata": {},
   "outputs": [],
   "source": [
    "scaler = StandardScaler(inputCol='features', outputCol='scaled_features')"
   ]
  },
  {
   "cell_type": "code",
   "execution_count": 33,
   "id": "d7f69834",
   "metadata": {},
   "outputs": [],
   "source": [
    "transformed_data = scaler.fit(transformed_data).transform(transformed_data)"
   ]
  },
  {
   "cell_type": "code",
   "execution_count": null,
   "id": "0e8ea668",
   "metadata": {},
   "outputs": [],
   "source": []
  }
 ],
 "metadata": {
  "kernelspec": {
   "display_name": "telco",
   "language": "python",
   "name": "telco"
  },
  "language_info": {
   "codemirror_mode": {
    "name": "ipython",
    "version": 3
   },
   "file_extension": ".py",
   "mimetype": "text/x-python",
   "name": "python",
   "nbconvert_exporter": "python",
   "pygments_lexer": "ipython3",
   "version": "3.9.7"
  }
 },
 "nbformat": 4,
 "nbformat_minor": 5
}
