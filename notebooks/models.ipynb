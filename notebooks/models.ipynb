{
 "cells": [
  {
   "cell_type": "code",
   "execution_count": 1,
   "id": "a5ec96ab",
   "metadata": {},
   "outputs": [],
   "source": [
    "import sys\n",
    "sys.path.append('..')"
   ]
  },
  {
   "cell_type": "code",
   "execution_count": 2,
   "id": "f57029cc",
   "metadata": {},
   "outputs": [],
   "source": [
    "from src.data import make_dummies, map_column_values, change_column_type"
   ]
  },
  {
   "cell_type": "code",
   "execution_count": 203,
   "id": "93518e14",
   "metadata": {},
   "outputs": [],
   "source": [
    "from pyspark.sql import SparkSession\n",
    "from pyspark.sql.dataframe import DataFrame\n",
    "from pyspark.ml.feature import VectorAssembler, StandardScaler\n",
    "from pyspark.ml.classification import RandomForestClassifier, LogisticRegression\n",
    "from pyspark.ml.evaluation import MulticlassClassificationEvaluator\n",
    "from pyspark.ml import Pipeline\n",
    "from hyperopt import fmin, tpe\n",
    "from hyperopt import hp\n",
    "import numpy as np\n",
    "from functools import partial\n",
    "from typing import Dict"
   ]
  },
  {
   "cell_type": "code",
   "execution_count": 57,
   "id": "b229c88c",
   "metadata": {},
   "outputs": [],
   "source": [
    "import warnings\n",
    "warnings.filterwarnings('ignore')"
   ]
  },
  {
   "cell_type": "code",
   "execution_count": 60,
   "id": "5a36b4cf",
   "metadata": {},
   "outputs": [],
   "source": [
    "def transform_dataset(dataset: DataFrame) -> DataFrame:\n",
    "    \"\"\"\n",
    "    Performs dataset transform to be able to work with this dataset\n",
    "    later, making dummy variables from categorical ones and cast to \n",
    "    correct types. Also removes `customerID` column, cause it not used for prediction\n",
    "    \"\"\"\n",
    "    categorical_columns = ['PhoneService','StreamingTV','gender',\n",
    "                           'MultipleLines','SeniorCitizen',\n",
    "                           'Contract','Partner','DeviceProtection',\n",
    "                           'OnlineSecurity','StreamingMovies',\n",
    "                           'PaperlessBilling','Dependents',\n",
    "                           'PaymentMethod','OnlineBackup',\n",
    "                           'TechSupport','InternetService'\n",
    "                          ]\n",
    "    transformed_dataset = make_dummies(dataset, categorical_columns)\n",
    "\n",
    "    transformed_dataset = change_column_type(transformed_dataset, 'tenure', 'int')\n",
    "    transformed_dataset = change_column_type(transformed_dataset, 'MonthlyCharges', 'double')\n",
    "    transformed_dataset = change_column_type(transformed_dataset, 'TotalCharges', 'double')\n",
    "\n",
    "    transformed_dataset = map_column_values(transformed_dataset, 'Churn',\n",
    "                                           {'Yes': 1, 'No': 0})\n",
    "    transformed_dataset = change_column_type(transformed_dataset, 'Churn', 'int')\n",
    "\n",
    "    transformed_dataset = transformed_dataset.replace('?', None).dropna(how='any')\n",
    "\n",
    "    transformed_dataset = transformed_dataset.drop('customerID')\n",
    "\n",
    "    return transformed_dataset\n"
   ]
  },
  {
   "cell_type": "code",
   "execution_count": 6,
   "id": "54aa78a4",
   "metadata": {},
   "outputs": [
    {
     "name": "stderr",
     "output_type": "stream",
     "text": [
      "22/04/26 22:07:02 WARN Utils: Your hostname, nbb-173-74a resolves to a loopback address: 127.0.1.1; using 192.168.1.186 instead (on interface wlp0s20f3)\n",
      "22/04/26 22:07:02 WARN Utils: Set SPARK_LOCAL_IP if you need to bind to another address\n",
      "WARNING: An illegal reflective access operation has occurred\n",
      "WARNING: Illegal reflective access by org.apache.spark.unsafe.Platform (file:/home/raman/Work/telco_customer_churn/venv/lib/python3.9/site-packages/pyspark/jars/spark-unsafe_2.12-3.2.1.jar) to constructor java.nio.DirectByteBuffer(long,int)\n",
      "WARNING: Please consider reporting this to the maintainers of org.apache.spark.unsafe.Platform\n",
      "WARNING: Use --illegal-access=warn to enable warnings of further illegal reflective access operations\n",
      "WARNING: All illegal access operations will be denied in a future release\n",
      "Using Spark's default log4j profile: org/apache/spark/log4j-defaults.properties\n",
      "Setting default log level to \"WARN\".\n",
      "To adjust logging level use sc.setLogLevel(newLevel). For SparkR, use setLogLevel(newLevel).\n",
      "22/04/26 22:07:02 WARN NativeCodeLoader: Unable to load native-hadoop library for your platform... using builtin-java classes where applicable\n",
      "22/04/26 22:07:03 WARN Utils: Service 'SparkUI' could not bind on port 4040. Attempting port 4041.\n"
     ]
    }
   ],
   "source": [
    "spark = SparkSession.builder.appName('telco_models').getOrCreate()"
   ]
  },
  {
   "cell_type": "code",
   "execution_count": 39,
   "id": "598639d3",
   "metadata": {},
   "outputs": [],
   "source": [
    "df = spark.read.csv('../data/raw/dataset.csv', header=True)"
   ]
  },
  {
   "cell_type": "markdown",
   "id": "3a45010c",
   "metadata": {},
   "source": [
    "## Data Transformations"
   ]
  },
  {
   "cell_type": "code",
   "execution_count": 95,
   "id": "7f983a30",
   "metadata": {},
   "outputs": [],
   "source": [
    "test = spark.read.csv('../data/processed/test.csv/', header=True)\n",
    "train = spark.read.csv('../data/processed/train.csv/', header=True)"
   ]
  },
  {
   "cell_type": "code",
   "execution_count": 96,
   "id": "d00063a8",
   "metadata": {},
   "outputs": [],
   "source": [
    "train = transform_dataset(train)\n",
    "test = transform_dataset(test)"
   ]
  },
  {
   "cell_type": "code",
   "execution_count": 97,
   "id": "5f0b3d68",
   "metadata": {},
   "outputs": [],
   "source": [
    "vec = VectorAssembler(inputCols=list(set(train.columns) - set(['Churn'])),\n",
    "                     outputCol='features')"
   ]
  },
  {
   "cell_type": "code",
   "execution_count": 98,
   "id": "7edb052b",
   "metadata": {},
   "outputs": [],
   "source": [
    "train = vec.transform(train)\n",
    "test = vec.transform(test)"
   ]
  },
  {
   "cell_type": "code",
   "execution_count": 99,
   "id": "dfc63be2",
   "metadata": {},
   "outputs": [],
   "source": [
    "scaler = StandardScaler(inputCol='features', outputCol='features_scaled')"
   ]
  },
  {
   "cell_type": "code",
   "execution_count": 100,
   "id": "70aac4f0",
   "metadata": {},
   "outputs": [],
   "source": [
    "train = scaler.fit(train).transform(train)\n",
    "test = scaler.fit(test).transform(test)"
   ]
  },
  {
   "cell_type": "markdown",
   "id": "33e6b22f",
   "metadata": {},
   "source": [
    "## Models"
   ]
  },
  {
   "cell_type": "code",
   "execution_count": 101,
   "id": "5ae73108",
   "metadata": {},
   "outputs": [],
   "source": [
    "rf = RandomForestClassifier(labelCol='Churn', featuresCol='features')"
   ]
  },
  {
   "cell_type": "code",
   "execution_count": 102,
   "id": "146a005b",
   "metadata": {},
   "outputs": [],
   "source": [
    "model = rf.fit(train)"
   ]
  },
  {
   "cell_type": "code",
   "execution_count": 103,
   "id": "d451c2af",
   "metadata": {},
   "outputs": [],
   "source": [
    "pred = model.transform(test)"
   ]
  },
  {
   "cell_type": "code",
   "execution_count": 104,
   "id": "7049d68d",
   "metadata": {},
   "outputs": [],
   "source": [
    "evaluator = MulticlassClassificationEvaluator(\n",
    "    labelCol='Churn',\n",
    "    predictionCol='prediction',\n",
    "    metricName='f1'\n",
    ")"
   ]
  },
  {
   "cell_type": "code",
   "execution_count": 105,
   "id": "fe6a11ca",
   "metadata": {},
   "outputs": [
    {
     "data": {
      "text/plain": [
       "0.7939194637801144"
      ]
     },
     "execution_count": 105,
     "metadata": {},
     "output_type": "execute_result"
    }
   ],
   "source": [
    "evaluator.evaluate(pred)"
   ]
  },
  {
   "cell_type": "markdown",
   "id": "f98c409d",
   "metadata": {},
   "source": [
    "## Pipeline"
   ]
  },
  {
   "cell_type": "code",
   "execution_count": 245,
   "id": "7ba2397c",
   "metadata": {},
   "outputs": [],
   "source": [
    "test = spark.read.csv('../data/processed/test.csv/', header=True)\n",
    "train = spark.read.csv('../data/processed/train.csv/', header=True)"
   ]
  },
  {
   "cell_type": "code",
   "execution_count": 227,
   "id": "25abf781",
   "metadata": {},
   "outputs": [
    {
     "data": {
      "text/plain": [
       "7043"
      ]
     },
     "execution_count": 227,
     "metadata": {},
     "output_type": "execute_result"
    }
   ],
   "source": [
    "train.unionByName(test, allowMissingColumns=True).count()"
   ]
  },
  {
   "cell_type": "code",
   "execution_count": 246,
   "id": "e19b5b5e",
   "metadata": {},
   "outputs": [],
   "source": [
    "test = transform_dataset(test)\n",
    "train = transform_dataset(train)"
   ]
  },
  {
   "cell_type": "code",
   "execution_count": 229,
   "id": "2ce5db97",
   "metadata": {},
   "outputs": [],
   "source": [
    "vec = VectorAssembler(inputCols=list(set(train.columns) - set(['Churn'])),\n",
    "                     outputCol='features')"
   ]
  },
  {
   "cell_type": "code",
   "execution_count": 230,
   "id": "86ec4611",
   "metadata": {},
   "outputs": [],
   "source": [
    "scaler = StandardScaler(inputCol='features', outputCol='features_scaled')"
   ]
  },
  {
   "cell_type": "code",
   "execution_count": 231,
   "id": "22d7504c",
   "metadata": {},
   "outputs": [],
   "source": [
    "model = RandomForestClassifier(\n",
    "    featuresCol='features', labelCol='Churn',\n",
    "    maxDepth=10, numTrees=30, impurity='gini',\n",
    ")"
   ]
  },
  {
   "cell_type": "code",
   "execution_count": 232,
   "id": "d6830da9",
   "metadata": {},
   "outputs": [],
   "source": [
    "pipeline = Pipeline(stages=[vec, scaler, model])"
   ]
  },
  {
   "cell_type": "code",
   "execution_count": 233,
   "id": "8a322543",
   "metadata": {},
   "outputs": [
    {
     "name": "stderr",
     "output_type": "stream",
     "text": [
      "22/04/27 01:27:56 WARN DAGScheduler: Broadcasting large task binary with size 1446.7 KiB\n",
      "22/04/27 01:27:57 WARN DAGScheduler: Broadcasting large task binary with size 2.0 MiB\n"
     ]
    }
   ],
   "source": [
    "model = pipeline.fit(train)"
   ]
  },
  {
   "cell_type": "code",
   "execution_count": null,
   "id": "2d74ae20",
   "metadata": {},
   "outputs": [],
   "source": [
    "model.save()"
   ]
  },
  {
   "cell_type": "code",
   "execution_count": 234,
   "id": "28d2bd99",
   "metadata": {},
   "outputs": [],
   "source": [
    "pred = model.transform(test)"
   ]
  },
  {
   "cell_type": "code",
   "execution_count": 235,
   "id": "1fe7d3af",
   "metadata": {},
   "outputs": [],
   "source": [
    "evaluator = MulticlassClassificationEvaluator(\n",
    "    labelCol='Churn',\n",
    "    predictionCol='prediction',\n",
    "    metricName='f1'\n",
    ")"
   ]
  },
  {
   "cell_type": "code",
   "execution_count": 236,
   "id": "223fd80b",
   "metadata": {},
   "outputs": [
    {
     "name": "stderr",
     "output_type": "stream",
     "text": [
      "22/04/27 01:28:01 WARN DAGScheduler: Broadcasting large task binary with size 1275.1 KiB\n"
     ]
    },
    {
     "data": {
      "text/plain": [
       "0.828692410087759"
      ]
     },
     "execution_count": 236,
     "metadata": {},
     "output_type": "execute_result"
    }
   ],
   "source": [
    "evaluator.evaluate(pred)"
   ]
  },
  {
   "cell_type": "markdown",
   "id": "d092a455",
   "metadata": {},
   "source": [
    "## Adding HyperOpt"
   ]
  },
  {
   "cell_type": "code",
   "execution_count": 211,
   "id": "00643607",
   "metadata": {},
   "outputs": [],
   "source": [
    "train = spark.read.csv('../data/processed/train.csv/', header=True)\n",
    "train = transform_dataset(train)\n",
    "test = spark.read.csv('../data/processed/test.csv/', header=True)\n",
    "test = transform_dataset(test)"
   ]
  },
  {
   "cell_type": "code",
   "execution_count": 171,
   "id": "07f4ba56",
   "metadata": {},
   "outputs": [],
   "source": [
    "def random_forest_f1(args) -> float:    \n",
    "    max_depth, num_trees, impurity = args\n",
    "    \n",
    "    vec = VectorAssembler(inputCols=list(set(train.columns) - set(['Churn'])),\n",
    "                          outputCol='features'\n",
    "                         )\n",
    "    rf = RandomForestClassifier(featuresCol='features',\n",
    "                                labelCol='Churn',\n",
    "                                maxDepth=max_depth,\n",
    "                                numTrees=num_trees,\n",
    "                                impurity=impurity,\n",
    "                               )\n",
    "    pred = Pipeline(stages=[vec, rf]).fit(train).transform(test)\n",
    "    evaluator = MulticlassClassificationEvaluator(\n",
    "    labelCol='Churn',\n",
    "    predictionCol='prediction',\n",
    "    metricName='f1'\n",
    "    )\n",
    "    res = evaluator.evaluate(pred)\n",
    "    return -res\n",
    "    "
   ]
  },
  {
   "cell_type": "code",
   "execution_count": null,
   "id": "ff5a2fe7",
   "metadata": {},
   "outputs": [],
   "source": []
  },
  {
   "cell_type": "code",
   "execution_count": 172,
   "id": "d43e800d",
   "metadata": {},
   "outputs": [],
   "source": [
    "space = [\n",
    "    hp.choice('max_depth', np.arange(5, 20, dtype=int)),\n",
    "    hp.choice('num_trees', np.arange(20, 100, dtype=int)),\n",
    "    hp.choice('impurity', ['gini','entropy'])\n",
    "]"
   ]
  },
  {
   "cell_type": "code",
   "execution_count": 173,
   "id": "e69f17bb",
   "metadata": {},
   "outputs": [
    {
     "name": "stdout",
     "output_type": "stream",
     "text": [
      "\r",
      "  0%|                                   | 0/100 [00:00<?, ?trial/s, best loss=?]"
     ]
    },
    {
     "name": "stderr",
     "output_type": "stream",
     "text": [
      "22/04/26 22:57:53 WARN DAGScheduler: Broadcasting large task binary with size 1330.4 KiB\n",
      "22/04/26 22:57:53 WARN DAGScheduler: Broadcasting large task binary with size 2.0 MiB\n",
      "22/04/26 22:57:54 WARN DAGScheduler: Broadcasting large task binary with size 2.9 MiB\n",
      "22/04/26 22:57:54 WARN DAGScheduler: Broadcasting large task binary with size 4.1 MiB\n",
      "22/04/26 22:57:55 WARN DAGScheduler: Broadcasting large task binary with size 5.3 MiB\n",
      "22/04/26 22:57:55 WARN DAGScheduler: Broadcasting large task binary with size 6.4 MiB\n",
      "22/04/26 22:57:56 WARN DAGScheduler: Broadcasting large task binary with size 7.4 MiB\n",
      "22/04/26 22:57:57 WARN DAGScheduler: Broadcasting large task binary with size 8.2 MiB\n",
      "22/04/26 22:57:57 WARN DAGScheduler: Broadcasting large task binary with size 8.8 MiB\n",
      "22/04/26 22:57:58 WARN DAGScheduler: Broadcasting large task binary with size 9.2 MiB\n"
     ]
    },
    {
     "name": "stdout",
     "output_type": "stream",
     "text": [
      "\r",
      "  1%|        | 1/100 [00:07<12:43,  7.71s/trial, best loss: -0.8116950792456098]"
     ]
    },
    {
     "name": "stderr",
     "output_type": "stream",
     "text": [
      "22/04/26 22:57:59 WARN DAGScheduler: Broadcasting large task binary with size 5.1 MiB\n",
      "22/04/26 22:58:01 WARN DAGScheduler: Broadcasting large task binary with size 1403.3 KiB\n",
      "22/04/26 22:58:01 WARN DAGScheduler: Broadcasting large task binary with size 2.3 MiB\n",
      "22/04/26 22:58:02 WARN DAGScheduler: Broadcasting large task binary with size 3.6 MiB\n",
      "22/04/26 22:58:03 WARN DAGScheduler: Broadcasting large task binary with size 5.3 MiB\n",
      "22/04/26 22:58:04 WARN DAGScheduler: Broadcasting large task binary with size 7.4 MiB\n",
      "22/04/26 22:58:05 WARN DAGScheduler: Broadcasting large task binary with size 9.6 MiB\n",
      "22/04/26 22:58:06 WARN DAGScheduler: Broadcasting large task binary with size 11.7 MiB\n",
      "22/04/26 22:58:08 WARN DAGScheduler: Broadcasting large task binary with size 13.6 MiB\n",
      "22/04/26 22:58:09 WARN DAGScheduler: Broadcasting large task binary with size 7.7 MiB\n"
     ]
    },
    {
     "name": "stdout",
     "output_type": "stream",
     "text": [
      "\r",
      "  2%|▏       | 2/100 [00:18<15:14,  9.34s/trial, best loss: -0.8116950792456098]"
     ]
    },
    {
     "name": "stderr",
     "output_type": "stream",
     "text": [
      "22/04/26 22:58:11 WARN DAGScheduler: Broadcasting large task binary with size 1097.5 KiB\n",
      "22/04/26 22:58:11 WARN DAGScheduler: Broadcasting large task binary with size 1668.9 KiB\n",
      "22/04/26 22:58:11 WARN DAGScheduler: Broadcasting large task binary with size 2.4 MiB\n",
      "22/04/26 22:58:12 WARN DAGScheduler: Broadcasting large task binary with size 3.2 MiB\n",
      "22/04/26 22:58:12 WARN DAGScheduler: Broadcasting large task binary with size 4.2 MiB\n",
      "22/04/26 22:58:13 WARN DAGScheduler: Broadcasting large task binary with size 5.1 MiB\n",
      "22/04/26 22:58:13 WARN DAGScheduler: Broadcasting large task binary with size 5.9 MiB\n",
      "22/04/26 22:58:14 WARN DAGScheduler: Broadcasting large task binary with size 6.5 MiB\n",
      "22/04/26 22:58:15 WARN DAGScheduler: Broadcasting large task binary with size 7.0 MiB\n",
      "22/04/26 22:58:15 WARN DAGScheduler: Broadcasting large task binary with size 7.3 MiB\n",
      "22/04/26 22:58:16 WARN DAGScheduler: Broadcasting large task binary with size 7.5 MiB\n"
     ]
    },
    {
     "name": "stdout",
     "output_type": "stream",
     "text": [
      "\r",
      "  3%|▏       | 3/100 [00:25<13:15,  8.20s/trial, best loss: -0.8116950792456098]"
     ]
    },
    {
     "name": "stderr",
     "output_type": "stream",
     "text": [
      "22/04/26 22:58:16 WARN DAGScheduler: Broadcasting large task binary with size 4.1 MiB\n",
      "22/04/26 22:58:18 WARN DAGScheduler: Broadcasting large task binary with size 1327.4 KiB\n"
     ]
    },
    {
     "name": "stdout",
     "output_type": "stream",
     "text": [
      "\r",
      "  4%|▎       | 4/100 [00:27<09:16,  5.80s/trial, best loss: -0.8241559962274572]"
     ]
    },
    {
     "name": "stderr",
     "output_type": "stream",
     "text": [
      "22/04/26 22:58:20 WARN DAGScheduler: Broadcasting large task binary with size 1572.4 KiB\n",
      "22/04/26 22:58:21 WARN DAGScheduler: Broadcasting large task binary with size 2.4 MiB\n",
      "22/04/26 22:58:21 WARN DAGScheduler: Broadcasting large task binary with size 3.5 MiB\n",
      "22/04/26 22:58:22 WARN DAGScheduler: Broadcasting large task binary with size 4.8 MiB\n",
      "22/04/26 22:58:22 WARN DAGScheduler: Broadcasting large task binary with size 6.2 MiB\n"
     ]
    },
    {
     "name": "stdout",
     "output_type": "stream",
     "text": [
      "\r",
      "  5%|▍       | 5/100 [00:32<08:40,  5.48s/trial, best loss: -0.8241559962274572]"
     ]
    },
    {
     "name": "stderr",
     "output_type": "stream",
     "text": [
      "22/04/26 22:58:23 WARN DAGScheduler: Broadcasting large task binary with size 3.6 MiB\n",
      "22/04/26 22:58:25 WARN DAGScheduler: Broadcasting large task binary with size 1191.3 KiB\n",
      "22/04/26 22:58:25 WARN DAGScheduler: Broadcasting large task binary with size 1935.8 KiB\n",
      "22/04/26 22:58:26 WARN DAGScheduler: Broadcasting large task binary with size 2.9 MiB\n",
      "22/04/26 22:58:26 WARN DAGScheduler: Broadcasting large task binary with size 4.3 MiB\n",
      "22/04/26 22:58:27 WARN DAGScheduler: Broadcasting large task binary with size 6.0 MiB\n",
      "22/04/26 22:58:28 WARN DAGScheduler: Broadcasting large task binary with size 7.8 MiB\n",
      "22/04/26 22:58:29 WARN DAGScheduler: Broadcasting large task binary with size 9.6 MiB\n",
      "22/04/26 22:58:31 WARN DAGScheduler: Broadcasting large task binary with size 5.5 MiB\n"
     ]
    },
    {
     "name": "stdout",
     "output_type": "stream",
     "text": [
      "\r",
      "  6%|▍       | 6/100 [00:39<09:36,  6.13s/trial, best loss: -0.8241559962274572]"
     ]
    },
    {
     "name": "stderr",
     "output_type": "stream",
     "text": [
      "22/04/26 22:58:33 WARN DAGScheduler: Broadcasting large task binary with size 1607.6 KiB\n",
      "22/04/26 22:58:33 WARN DAGScheduler: Broadcasting large task binary with size 2.6 MiB\n",
      "22/04/26 22:58:34 WARN DAGScheduler: Broadcasting large task binary with size 4.2 MiB\n",
      "22/04/26 22:58:35 WARN DAGScheduler: Broadcasting large task binary with size 6.2 MiB\n",
      "22/04/26 22:58:37 WARN DAGScheduler: Broadcasting large task binary with size 3.6 MiB\n"
     ]
    },
    {
     "name": "stdout",
     "output_type": "stream",
     "text": [
      "\r",
      "  7%|▌       | 7/100 [00:45<09:25,  6.08s/trial, best loss: -0.8243231445631309]"
     ]
    },
    {
     "name": "stderr",
     "output_type": "stream",
     "text": [
      "22/04/26 22:58:38 WARN DAGScheduler: Broadcasting large task binary with size 1224.0 KiB\n",
      "22/04/26 22:58:39 WARN DAGScheduler: Broadcasting large task binary with size 1885.5 KiB\n",
      "22/04/26 22:58:39 WARN DAGScheduler: Broadcasting large task binary with size 2.7 MiB\n",
      "22/04/26 22:58:39 WARN DAGScheduler: Broadcasting large task binary with size 3.7 MiB\n",
      "22/04/26 22:58:40 WARN DAGScheduler: Broadcasting large task binary with size 4.8 MiB\n",
      "22/04/26 22:58:41 WARN DAGScheduler: Broadcasting large task binary with size 5.9 MiB\n",
      "22/04/26 22:58:41 WARN DAGScheduler: Broadcasting large task binary with size 6.8 MiB\n",
      "22/04/26 22:58:42 WARN DAGScheduler: Broadcasting large task binary with size 3.9 MiB\n"
     ]
    },
    {
     "name": "stdout",
     "output_type": "stream",
     "text": [
      "\r",
      "  8%|▋       | 8/100 [00:50<09:02,  5.90s/trial, best loss: -0.8243231445631309]"
     ]
    },
    {
     "name": "stderr",
     "output_type": "stream",
     "text": [
      "22/04/26 22:58:44 WARN DAGScheduler: Broadcasting large task binary with size 1160.4 KiB\n",
      "22/04/26 22:58:44 WARN DAGScheduler: Broadcasting large task binary with size 1764.9 KiB\n",
      "22/04/26 22:58:45 WARN DAGScheduler: Broadcasting large task binary with size 2.5 MiB\n",
      "22/04/26 22:58:45 WARN DAGScheduler: Broadcasting large task binary with size 3.4 MiB\n"
     ]
    },
    {
     "name": "stdout",
     "output_type": "stream",
     "text": [
      "\r",
      "  9%|▋       | 9/100 [00:54<07:47,  5.14s/trial, best loss: -0.8243231445631309]"
     ]
    },
    {
     "name": "stderr",
     "output_type": "stream",
     "text": [
      "22/04/26 22:58:46 WARN DAGScheduler: Broadcasting large task binary with size 2.0 MiB\n"
     ]
    },
    {
     "name": "stdout",
     "output_type": "stream",
     "text": [
      "\r",
      " 10%|▋      | 10/100 [00:56<06:06,  4.07s/trial, best loss: -0.8243231445631309]"
     ]
    },
    {
     "name": "stderr",
     "output_type": "stream",
     "text": [
      "22/04/26 22:58:49 WARN DAGScheduler: Broadcasting large task binary with size 1282.3 KiB\n",
      "22/04/26 22:58:50 WARN DAGScheduler: Broadcasting large task binary with size 2.0 MiB\n",
      "22/04/26 22:58:50 WARN DAGScheduler: Broadcasting large task binary with size 3.2 MiB\n",
      "22/04/26 22:58:51 WARN DAGScheduler: Broadcasting large task binary with size 4.7 MiB\n",
      "22/04/26 22:58:52 WARN DAGScheduler: Broadcasting large task binary with size 6.5 MiB\n",
      "22/04/26 22:58:53 WARN DAGScheduler: Broadcasting large task binary with size 8.5 MiB\n",
      "22/04/26 22:58:54 WARN DAGScheduler: Broadcasting large task binary with size 4.9 MiB\n"
     ]
    },
    {
     "name": "stdout",
     "output_type": "stream",
     "text": [
      "\r",
      " 11%|▊      | 11/100 [01:03<07:21,  4.96s/trial, best loss: -0.8243231445631309]"
     ]
    },
    {
     "name": "stderr",
     "output_type": "stream",
     "text": [
      "22/04/26 22:58:56 WARN DAGScheduler: Broadcasting large task binary with size 1494.4 KiB\n",
      "22/04/26 22:58:57 WARN DAGScheduler: Broadcasting large task binary with size 2.2 MiB\n",
      "22/04/26 22:58:57 WARN DAGScheduler: Broadcasting large task binary with size 3.2 MiB\n",
      "22/04/26 22:58:58 WARN DAGScheduler: Broadcasting large task binary with size 4.5 MiB\n",
      "22/04/26 22:58:58 WARN DAGScheduler: Broadcasting large task binary with size 5.8 MiB\n",
      "22/04/26 22:58:59 WARN DAGScheduler: Broadcasting large task binary with size 7.1 MiB\n",
      "22/04/26 22:59:00 WARN DAGScheduler: Broadcasting large task binary with size 8.3 MiB\n",
      "22/04/26 22:59:01 WARN DAGScheduler: Broadcasting large task binary with size 9.3 MiB\n"
     ]
    },
    {
     "name": "stdout",
     "output_type": "stream",
     "text": [
      "\r",
      " 12%|▊      | 12/100 [01:10<08:25,  5.75s/trial, best loss: -0.8243231445631309]"
     ]
    },
    {
     "name": "stderr",
     "output_type": "stream",
     "text": [
      "22/04/26 22:59:02 WARN DAGScheduler: Broadcasting large task binary with size 5.3 MiB\n",
      "22/04/26 22:59:04 WARN DAGScheduler: Broadcasting large task binary with size 1603.4 KiB\n",
      "22/04/26 22:59:04 WARN DAGScheduler: Broadcasting large task binary with size 2.6 MiB\n",
      "22/04/26 22:59:05 WARN DAGScheduler: Broadcasting large task binary with size 4.2 MiB\n",
      "                                                                                \r"
     ]
    },
    {
     "name": "stdout",
     "output_type": "stream",
     "text": [
      "\r",
      " 13%|▉      | 13/100 [01:15<07:45,  5.35s/trial, best loss: -0.8243231445631309]"
     ]
    },
    {
     "name": "stderr",
     "output_type": "stream",
     "text": [
      "22/04/26 22:59:06 WARN DAGScheduler: Broadcasting large task binary with size 2.4 MiB\n"
     ]
    },
    {
     "name": "stdout",
     "output_type": "stream",
     "text": [
      "\r",
      " 14%|▉      | 14/100 [01:16<06:05,  4.25s/trial, best loss: -0.8243231445631309]"
     ]
    },
    {
     "name": "stderr",
     "output_type": "stream",
     "text": [
      "22/04/26 22:59:10 WARN DAGScheduler: Broadcasting large task binary with size 1295.5 KiB\n",
      "22/04/26 22:59:10 WARN DAGScheduler: Broadcasting large task binary with size 1975.1 KiB\n",
      "22/04/26 22:59:10 WARN DAGScheduler: Broadcasting large task binary with size 2.8 MiB\n",
      "22/04/26 22:59:11 WARN DAGScheduler: Broadcasting large task binary with size 3.9 MiB\n",
      "22/04/26 22:59:11 WARN DAGScheduler: Broadcasting large task binary with size 5.0 MiB\n"
     ]
    },
    {
     "name": "stdout",
     "output_type": "stream",
     "text": [
      "\r",
      " 15%|█      | 15/100 [01:21<06:02,  4.27s/trial, best loss: -0.8243231445631309]"
     ]
    },
    {
     "name": "stderr",
     "output_type": "stream",
     "text": [
      "22/04/26 22:59:12 WARN DAGScheduler: Broadcasting large task binary with size 2.9 MiB\n",
      "22/04/26 22:59:14 WARN DAGScheduler: Broadcasting large task binary with size 1138.7 KiB\n",
      "22/04/26 22:59:14 WARN DAGScheduler: Broadcasting large task binary with size 1851.0 KiB\n",
      "22/04/26 22:59:15 WARN DAGScheduler: Broadcasting large task binary with size 2.8 MiB\n",
      "22/04/26 22:59:15 WARN DAGScheduler: Broadcasting large task binary with size 4.1 MiB\n",
      "22/04/26 22:59:16 WARN DAGScheduler: Broadcasting large task binary with size 5.7 MiB\n",
      "22/04/26 22:59:17 WARN DAGScheduler: Broadcasting large task binary with size 7.4 MiB\n",
      "22/04/26 22:59:18 WARN DAGScheduler: Broadcasting large task binary with size 9.1 MiB\n",
      "22/04/26 22:59:19 WARN DAGScheduler: Broadcasting large task binary with size 10.6 MiB\n",
      "22/04/26 22:59:20 WARN DAGScheduler: Broadcasting large task binary with size 6.0 MiB\n"
     ]
    },
    {
     "name": "stdout",
     "output_type": "stream",
     "text": [
      " 17%|█▏     | 17/100 [01:30<05:51,  4.24s/trial, best loss: -0.8243231445631309]"
     ]
    },
    {
     "name": "stderr",
     "output_type": "stream",
     "text": [
      "22/04/26 22:59:24 WARN DAGScheduler: Broadcasting large task binary with size 1527.0 KiB\n",
      "22/04/26 22:59:24 WARN DAGScheduler: Broadcasting large task binary with size 2.3 MiB\n",
      "22/04/26 22:59:25 WARN DAGScheduler: Broadcasting large task binary with size 3.3 MiB\n",
      "22/04/26 22:59:25 WARN DAGScheduler: Broadcasting large task binary with size 4.6 MiB\n",
      "22/04/26 22:59:26 WARN DAGScheduler: Broadcasting large task binary with size 6.0 MiB\n",
      "22/04/26 22:59:27 WARN DAGScheduler: Broadcasting large task binary with size 7.3 MiB\n",
      "22/04/26 22:59:27 WARN DAGScheduler: Broadcasting large task binary with size 8.5 MiB\n",
      "22/04/26 22:59:28 WARN DAGScheduler: Broadcasting large task binary with size 9.5 MiB\n",
      "22/04/26 22:59:29 WARN DAGScheduler: Broadcasting large task binary with size 10.3 MiB\n",
      "22/04/26 22:59:30 WARN DAGScheduler: Broadcasting large task binary with size 10.8 MiB\n",
      "22/04/26 22:59:31 WARN DAGScheduler: Broadcasting large task binary with size 6.0 MiB\n"
     ]
    },
    {
     "name": "stdout",
     "output_type": "stream",
     "text": [
      "\r",
      " 18%|█▎     | 18/100 [01:39<07:48,  5.71s/trial, best loss: -0.8243231445631309]"
     ]
    },
    {
     "name": "stderr",
     "output_type": "stream",
     "text": [
      "22/04/26 22:59:33 WARN DAGScheduler: Broadcasting large task binary with size 1257.2 KiB\n",
      "22/04/26 22:59:33 WARN DAGScheduler: Broadcasting large task binary with size 2.0 MiB\n",
      "22/04/26 22:59:34 WARN DAGScheduler: Broadcasting large task binary with size 3.1 MiB\n",
      "22/04/26 22:59:35 WARN DAGScheduler: Broadcasting large task binary with size 4.5 MiB\n"
     ]
    },
    {
     "name": "stdout",
     "output_type": "stream",
     "text": [
      "\r",
      " 19%|█▎     | 19/100 [01:44<07:13,  5.35s/trial, best loss: -0.8243231445631309]"
     ]
    },
    {
     "name": "stderr",
     "output_type": "stream",
     "text": [
      "22/04/26 22:59:36 WARN DAGScheduler: Broadcasting large task binary with size 2.6 MiB\n",
      "22/04/26 22:59:37 WARN DAGScheduler: Broadcasting large task binary with size 1330.1 KiB\n",
      "22/04/26 22:59:38 WARN DAGScheduler: Broadcasting large task binary with size 2.2 MiB\n"
     ]
    },
    {
     "name": "stdout",
     "output_type": "stream",
     "text": [
      "\r",
      " 20%|█▍     | 20/100 [01:47<06:12,  4.66s/trial, best loss: -0.8243231445631309]"
     ]
    },
    {
     "name": "stderr",
     "output_type": "stream",
     "text": [
      "22/04/26 22:59:39 WARN DAGScheduler: Broadcasting large task binary with size 1318.5 KiB\n",
      "22/04/26 22:59:41 WARN DAGScheduler: Broadcasting large task binary with size 1607.6 KiB\n",
      "22/04/26 22:59:41 WARN DAGScheduler: Broadcasting large task binary with size 2.6 MiB\n",
      "22/04/26 22:59:42 WARN DAGScheduler: Broadcasting large task binary with size 4.2 MiB\n",
      "22/04/26 22:59:43 WARN DAGScheduler: Broadcasting large task binary with size 6.2 MiB\n",
      "22/04/26 22:59:44 WARN DAGScheduler: Broadcasting large task binary with size 8.6 MiB\n",
      "22/04/26 22:59:45 WARN DAGScheduler: Broadcasting large task binary with size 1115.2 KiB\n",
      "22/04/26 22:59:46 WARN DAGScheduler: Broadcasting large task binary with size 11.2 MiB\n",
      "22/04/26 22:59:46 WARN DAGScheduler: Broadcasting large task binary with size 1128.2 KiB\n",
      "22/04/26 22:59:47 WARN DAGScheduler: Broadcasting large task binary with size 13.7 MiB\n",
      "22/04/26 22:59:48 WARN DAGScheduler: Broadcasting large task binary with size 1038.7 KiB\n",
      "22/04/26 22:59:49 WARN DAGScheduler: Broadcasting large task binary with size 15.9 MiB\n",
      "22/04/26 22:59:51 WARN DAGScheduler: Broadcasting large task binary with size 17.6 MiB\n",
      "22/04/26 22:59:52 WARN DAGScheduler: Broadcasting large task binary with size 18.9 MiB\n",
      "22/04/26 22:59:54 WARN DAGScheduler: Broadcasting large task binary with size 10.4 MiB\n"
     ]
    },
    {
     "name": "stdout",
     "output_type": "stream",
     "text": [
      " 22%|█▌     | 22/100 [02:05<08:01,  6.17s/trial, best loss: -0.8243231445631309]"
     ]
    },
    {
     "name": "stderr",
     "output_type": "stream",
     "text": [
      "22/04/26 22:59:58 WARN DAGScheduler: Broadcasting large task binary with size 1483.5 KiB\n",
      "22/04/26 22:59:59 WARN DAGScheduler: Broadcasting large task binary with size 2.4 MiB\n",
      "22/04/26 22:59:59 WARN DAGScheduler: Broadcasting large task binary with size 3.8 MiB\n",
      "22/04/26 23:00:00 WARN DAGScheduler: Broadcasting large task binary with size 5.7 MiB\n",
      "22/04/26 23:00:01 WARN DAGScheduler: Broadcasting large task binary with size 8.0 MiB\n",
      "22/04/26 23:00:02 WARN DAGScheduler: Broadcasting large task binary with size 1020.4 KiB\n",
      "22/04/26 23:00:03 WARN DAGScheduler: Broadcasting large task binary with size 10.3 MiB\n",
      "22/04/26 23:00:03 WARN DAGScheduler: Broadcasting large task binary with size 1024.7 KiB\n",
      "22/04/26 23:00:04 WARN DAGScheduler: Broadcasting large task binary with size 12.6 MiB\n",
      "22/04/26 23:00:06 WARN DAGScheduler: Broadcasting large task binary with size 14.6 MiB\n",
      "22/04/26 23:00:07 WARN DAGScheduler: Broadcasting large task binary with size 16.1 MiB\n",
      "22/04/26 23:00:09 WARN DAGScheduler: Broadcasting large task binary with size 17.2 MiB\n",
      "22/04/26 23:00:10 WARN DAGScheduler: Broadcasting large task binary with size 17.9 MiB\n",
      "22/04/26 23:00:12 WARN DAGScheduler: Broadcasting large task binary with size 18.4 MiB\n",
      "22/04/26 23:00:13 WARN DAGScheduler: Broadcasting large task binary with size 18.6 MiB\n",
      "22/04/26 23:00:15 WARN DAGScheduler: Broadcasting large task binary with size 10.1 MiB\n"
     ]
    },
    {
     "name": "stdout",
     "output_type": "stream",
     "text": [
      " 24%|█▋     | 24/100 [02:25<09:22,  7.41s/trial, best loss: -0.8243231445631309]"
     ]
    },
    {
     "name": "stderr",
     "output_type": "stream",
     "text": [
      "22/04/26 23:00:18 WARN DAGScheduler: Broadcasting large task binary with size 1428.4 KiB\n",
      "22/04/26 23:00:19 WARN DAGScheduler: Broadcasting large task binary with size 2.3 MiB\n",
      "22/04/26 23:00:19 WARN DAGScheduler: Broadcasting large task binary with size 3.6 MiB\n",
      "22/04/26 23:00:20 WARN DAGScheduler: Broadcasting large task binary with size 5.4 MiB\n",
      "                                                                                \r"
     ]
    },
    {
     "name": "stdout",
     "output_type": "stream",
     "text": [
      "\r",
      " 25%|█▊     | 25/100 [02:30<08:23,  6.71s/trial, best loss: -0.8243231445631309]"
     ]
    },
    {
     "name": "stderr",
     "output_type": "stream",
     "text": [
      "22/04/26 23:00:22 WARN DAGScheduler: Broadcasting large task binary with size 3.1 MiB\n",
      "22/04/26 23:00:24 WARN DAGScheduler: Broadcasting large task binary with size 1607.6 KiB\n",
      "22/04/26 23:00:24 WARN DAGScheduler: Broadcasting large task binary with size 2.6 MiB\n",
      "22/04/26 23:00:25 WARN DAGScheduler: Broadcasting large task binary with size 4.2 MiB\n",
      "22/04/26 23:00:26 WARN DAGScheduler: Broadcasting large task binary with size 6.2 MiB\n",
      "                                                                                \r"
     ]
    },
    {
     "name": "stdout",
     "output_type": "stream",
     "text": [
      "\r",
      " 26%|█▊     | 26/100 [02:35<07:53,  6.40s/trial, best loss: -0.8243231445631309]"
     ]
    },
    {
     "name": "stderr",
     "output_type": "stream",
     "text": [
      "22/04/26 23:00:27 WARN DAGScheduler: Broadcasting large task binary with size 3.6 MiB\n",
      "22/04/26 23:00:29 WARN DAGScheduler: Broadcasting large task binary with size 1607.6 KiB\n",
      "22/04/26 23:00:30 WARN DAGScheduler: Broadcasting large task binary with size 2.6 MiB\n",
      "22/04/26 23:00:30 WARN DAGScheduler: Broadcasting large task binary with size 4.2 MiB\n",
      "22/04/26 23:00:31 WARN DAGScheduler: Broadcasting large task binary with size 6.2 MiB\n"
     ]
    },
    {
     "name": "stdout",
     "output_type": "stream",
     "text": [
      "\r",
      " 27%|█▉     | 27/100 [02:41<07:26,  6.12s/trial, best loss: -0.8243231445631309]"
     ]
    },
    {
     "name": "stderr",
     "output_type": "stream",
     "text": [
      "22/04/26 23:00:33 WARN DAGScheduler: Broadcasting large task binary with size 3.6 MiB\n",
      "22/04/26 23:00:35 WARN DAGScheduler: Broadcasting large task binary with size 1398.9 KiB\n",
      "22/04/26 23:00:35 WARN DAGScheduler: Broadcasting large task binary with size 2.3 MiB\n",
      "22/04/26 23:00:36 WARN DAGScheduler: Broadcasting large task binary with size 3.6 MiB\n",
      "22/04/26 23:00:36 WARN DAGScheduler: Broadcasting large task binary with size 5.3 MiB\n",
      "                                                                                \r"
     ]
    },
    {
     "name": "stdout",
     "output_type": "stream",
     "text": [
      "\r",
      " 28%|█▉     | 28/100 [02:46<06:57,  5.80s/trial, best loss: -0.8243231445631309]"
     ]
    },
    {
     "name": "stderr",
     "output_type": "stream",
     "text": [
      "22/04/26 23:00:38 WARN DAGScheduler: Broadcasting large task binary with size 3.1 MiB\n",
      "22/04/26 23:00:40 WARN DAGScheduler: Broadcasting large task binary with size 1286.1 KiB\n",
      "22/04/26 23:00:40 WARN DAGScheduler: Broadcasting large task binary with size 2.1 MiB\n",
      "22/04/26 23:00:40 WARN DAGScheduler: Broadcasting large task binary with size 3.3 MiB\n",
      "22/04/26 23:00:41 WARN DAGScheduler: Broadcasting large task binary with size 4.8 MiB\n"
     ]
    },
    {
     "name": "stdout",
     "output_type": "stream",
     "text": [
      "\r",
      " 29%|██     | 29/100 [02:51<06:26,  5.44s/trial, best loss: -0.8243231445631309]"
     ]
    },
    {
     "name": "stderr",
     "output_type": "stream",
     "text": [
      "22/04/26 23:00:42 WARN DAGScheduler: Broadcasting large task binary with size 2.8 MiB\n",
      "22/04/26 23:00:44 WARN DAGScheduler: Broadcasting large task binary with size 1607.6 KiB\n",
      "22/04/26 23:00:45 WARN DAGScheduler: Broadcasting large task binary with size 2.6 MiB\n",
      "22/04/26 23:00:46 WARN DAGScheduler: Broadcasting large task binary with size 4.2 MiB\n",
      "22/04/26 23:00:47 WARN DAGScheduler: Broadcasting large task binary with size 6.2 MiB\n",
      "22/04/26 23:00:48 WARN DAGScheduler: Broadcasting large task binary with size 8.6 MiB\n",
      "22/04/26 23:00:49 WARN DAGScheduler: Broadcasting large task binary with size 1115.2 KiB\n",
      "22/04/26 23:00:50 WARN DAGScheduler: Broadcasting large task binary with size 11.2 MiB\n",
      "22/04/26 23:00:50 WARN DAGScheduler: Broadcasting large task binary with size 1128.2 KiB\n",
      "22/04/26 23:00:51 WARN DAGScheduler: Broadcasting large task binary with size 13.7 MiB\n",
      "22/04/26 23:00:52 WARN DAGScheduler: Broadcasting large task binary with size 1038.7 KiB\n",
      "22/04/26 23:00:53 WARN DAGScheduler: Broadcasting large task binary with size 7.8 MiB\n"
     ]
    },
    {
     "name": "stdout",
     "output_type": "stream",
     "text": [
      "\r",
      " 30%|██     | 30/100 [03:01<08:10,  7.01s/trial, best loss: -0.8243231445631309]"
     ]
    },
    {
     "name": "stderr",
     "output_type": "stream",
     "text": [
      "22/04/26 23:00:55 WARN DAGScheduler: Broadcasting large task binary with size 1020.0 KiB\n",
      "22/04/26 23:00:55 WARN DAGScheduler: Broadcasting large task binary with size 1665.7 KiB\n",
      "22/04/26 23:00:56 WARN DAGScheduler: Broadcasting large task binary with size 2.5 MiB\n",
      "22/04/26 23:00:57 WARN DAGScheduler: Broadcasting large task binary with size 3.7 MiB\n",
      "22/04/26 23:00:58 WARN DAGScheduler: Broadcasting large task binary with size 5.2 MiB\n",
      "22/04/26 23:00:58 WARN DAGScheduler: Broadcasting large task binary with size 6.7 MiB\n",
      "22/04/26 23:00:59 WARN DAGScheduler: Broadcasting large task binary with size 8.2 MiB\n",
      "22/04/26 23:01:00 WARN DAGScheduler: Broadcasting large task binary with size 9.5 MiB\n",
      "22/04/26 23:01:01 WARN DAGScheduler: Broadcasting large task binary with size 10.5 MiB\n",
      "22/04/26 23:01:02 WARN DAGScheduler: Broadcasting large task binary with size 5.9 MiB\n"
     ]
    },
    {
     "name": "stdout",
     "output_type": "stream",
     "text": [
      "\r",
      " 31%|██▏    | 31/100 [03:11<08:51,  7.70s/trial, best loss: -0.8243231445631309]"
     ]
    },
    {
     "name": "stderr",
     "output_type": "stream",
     "text": [
      "22/04/26 23:01:04 WARN DAGScheduler: Broadcasting large task binary with size 1160.3 KiB\n",
      "22/04/26 23:01:04 WARN DAGScheduler: Broadcasting large task binary with size 1918.9 KiB\n",
      "22/04/26 23:01:05 WARN DAGScheduler: Broadcasting large task binary with size 2.9 MiB\n",
      "22/04/26 23:01:05 WARN DAGScheduler: Broadcasting large task binary with size 4.3 MiB\n",
      "22/04/26 23:01:06 WARN DAGScheduler: Broadcasting large task binary with size 6.0 MiB\n",
      "22/04/26 23:01:07 WARN DAGScheduler: Broadcasting large task binary with size 7.8 MiB\n",
      "22/04/26 23:01:08 WARN DAGScheduler: Broadcasting large task binary with size 9.5 MiB\n",
      "22/04/26 23:01:10 WARN DAGScheduler: Broadcasting large task binary with size 10.9 MiB\n",
      "22/04/26 23:01:11 WARN DAGScheduler: Broadcasting large task binary with size 12.1 MiB\n",
      "22/04/26 23:01:12 WARN DAGScheduler: Broadcasting large task binary with size 12.9 MiB\n",
      "22/04/26 23:01:13 WARN DAGScheduler: Broadcasting large task binary with size 13.4 MiB\n",
      "22/04/26 23:01:14 WARN DAGScheduler: Broadcasting large task binary with size 13.7 MiB\n",
      "22/04/26 23:01:16 WARN DAGScheduler: Broadcasting large task binary with size 7.5 MiB\n"
     ]
    },
    {
     "name": "stdout",
     "output_type": "stream",
     "text": [
      "\r",
      " 32%|██▏    | 32/100 [03:24<10:44,  9.47s/trial, best loss: -0.8243231445631309]"
     ]
    },
    {
     "name": "stderr",
     "output_type": "stream",
     "text": [
      "22/04/26 23:01:18 WARN DAGScheduler: Broadcasting large task binary with size 1530.2 KiB\n"
     ]
    },
    {
     "name": "stdout",
     "output_type": "stream",
     "text": [
      "\r",
      " 33%|██▎    | 33/100 [03:27<08:20,  7.47s/trial, best loss: -0.8243231445631309]"
     ]
    },
    {
     "name": "stderr",
     "output_type": "stream",
     "text": [
      "22/04/26 23:01:21 WARN DAGScheduler: Broadcasting large task binary with size 1276.3 KiB\n",
      "22/04/26 23:01:21 WARN DAGScheduler: Broadcasting large task binary with size 2.1 MiB\n",
      "22/04/26 23:01:22 WARN DAGScheduler: Broadcasting large task binary with size 3.3 MiB\n",
      "22/04/26 23:01:22 WARN DAGScheduler: Broadcasting large task binary with size 4.8 MiB\n"
     ]
    },
    {
     "name": "stdout",
     "output_type": "stream",
     "text": [
      "\r",
      " 34%|██▍    | 34/100 [03:32<07:20,  6.67s/trial, best loss: -0.8243231445631309]"
     ]
    },
    {
     "name": "stderr",
     "output_type": "stream",
     "text": [
      "22/04/26 23:01:24 WARN DAGScheduler: Broadcasting large task binary with size 2.8 MiB\n"
     ]
    },
    {
     "name": "stdout",
     "output_type": "stream",
     "text": [
      "\r",
      " 35%|██▍    | 35/100 [03:34<05:40,  5.24s/trial, best loss: -0.8243231445631309]"
     ]
    },
    {
     "name": "stderr",
     "output_type": "stream",
     "text": [
      "22/04/26 23:01:27 WARN DAGScheduler: Broadcasting large task binary with size 1461.6 KiB\n",
      "22/04/26 23:01:28 WARN DAGScheduler: Broadcasting large task binary with size 2.4 MiB\n",
      "22/04/26 23:01:29 WARN DAGScheduler: Broadcasting large task binary with size 3.8 MiB\n"
     ]
    },
    {
     "name": "stdout",
     "output_type": "stream",
     "text": [
      "\r",
      " 36%|██▌    | 36/100 [03:38<05:17,  4.96s/trial, best loss: -0.8243231445631309]"
     ]
    },
    {
     "name": "stderr",
     "output_type": "stream",
     "text": [
      "22/04/26 23:01:30 WARN DAGScheduler: Broadcasting large task binary with size 2.2 MiB\n",
      "22/04/26 23:01:32 WARN DAGScheduler: Broadcasting large task binary with size 1238.3 KiB\n",
      "22/04/26 23:01:32 WARN DAGScheduler: Broadcasting large task binary with size 2.0 MiB\n",
      "22/04/26 23:01:33 WARN DAGScheduler: Broadcasting large task binary with size 3.1 MiB\n",
      "22/04/26 23:01:34 WARN DAGScheduler: Broadcasting large task binary with size 4.6 MiB\n",
      "22/04/26 23:01:35 WARN DAGScheduler: Broadcasting large task binary with size 6.3 MiB\n"
     ]
    },
    {
     "name": "stdout",
     "output_type": "stream",
     "text": [
      "\r",
      " 37%|██▌    | 37/100 [03:44<05:38,  5.38s/trial, best loss: -0.8243231445631309]"
     ]
    },
    {
     "name": "stderr",
     "output_type": "stream",
     "text": [
      "22/04/26 23:01:36 WARN DAGScheduler: Broadcasting large task binary with size 3.7 MiB\n",
      "22/04/26 23:01:38 WARN DAGScheduler: Broadcasting large task binary with size 1205.4 KiB\n",
      "22/04/26 23:01:38 WARN DAGScheduler: Broadcasting large task binary with size 1985.5 KiB\n",
      "22/04/26 23:01:39 WARN DAGScheduler: Broadcasting large task binary with size 3.0 MiB\n",
      "22/04/26 23:01:39 WARN DAGScheduler: Broadcasting large task binary with size 4.4 MiB\n",
      "22/04/26 23:01:40 WARN DAGScheduler: Broadcasting large task binary with size 6.2 MiB\n",
      "22/04/26 23:01:41 WARN DAGScheduler: Broadcasting large task binary with size 8.0 MiB\n",
      "22/04/26 23:01:42 WARN DAGScheduler: Broadcasting large task binary with size 9.8 MiB\n",
      "22/04/26 23:01:43 WARN DAGScheduler: Broadcasting large task binary with size 11.4 MiB\n",
      "22/04/26 23:01:44 WARN DAGScheduler: Broadcasting large task binary with size 12.7 MiB\n",
      "22/04/26 23:01:45 WARN DAGScheduler: Broadcasting large task binary with size 13.6 MiB\n",
      "22/04/26 23:01:47 WARN DAGScheduler: Broadcasting large task binary with size 7.5 MiB\n"
     ]
    },
    {
     "name": "stdout",
     "output_type": "stream",
     "text": [
      "\r",
      " 38%|██▋    | 38/100 [03:55<07:10,  6.94s/trial, best loss: -0.8243231445631309]"
     ]
    },
    {
     "name": "stderr",
     "output_type": "stream",
     "text": [
      "22/04/26 23:01:49 WARN DAGScheduler: Broadcasting large task binary with size 1568.4 KiB\n",
      "22/04/26 23:01:49 WARN DAGScheduler: Broadcasting large task binary with size 2.5 MiB\n",
      "22/04/26 23:01:50 WARN DAGScheduler: Broadcasting large task binary with size 3.9 MiB\n",
      "22/04/26 23:01:51 WARN DAGScheduler: Broadcasting large task binary with size 5.8 MiB\n",
      "22/04/26 23:01:52 WARN DAGScheduler: Broadcasting large task binary with size 8.0 MiB\n",
      "22/04/26 23:01:53 WARN DAGScheduler: Broadcasting large task binary with size 1038.6 KiB\n",
      "22/04/26 23:01:54 WARN DAGScheduler: Broadcasting large task binary with size 10.5 MiB\n",
      "22/04/26 23:01:54 WARN DAGScheduler: Broadcasting large task binary with size 1081.7 KiB\n",
      "22/04/26 23:01:55 WARN DAGScheduler: Broadcasting large task binary with size 12.9 MiB\n",
      "22/04/26 23:01:56 WARN DAGScheduler: Broadcasting large task binary with size 1022.1 KiB\n",
      "22/04/26 23:01:57 WARN DAGScheduler: Broadcasting large task binary with size 15.1 MiB\n",
      "22/04/26 23:01:59 WARN DAGScheduler: Broadcasting large task binary with size 16.9 MiB\n",
      "22/04/26 23:02:00 WARN DAGScheduler: Broadcasting large task binary with size 18.3 MiB\n",
      "22/04/26 23:02:02 WARN DAGScheduler: Broadcasting large task binary with size 19.2 MiB\n",
      "22/04/26 23:02:04 WARN DAGScheduler: Broadcasting large task binary with size 19.8 MiB\n",
      "22/04/26 23:02:05 WARN DAGScheduler: Broadcasting large task binary with size 20.2 MiB\n",
      "22/04/26 23:02:07 WARN DAGScheduler: Broadcasting large task binary with size 11.0 MiB\n"
     ]
    },
    {
     "name": "stdout",
     "output_type": "stream",
     "text": [
      "\r",
      " 39%|██▋    | 39/100 [04:15<11:08, 10.96s/trial, best loss: -0.8243231445631309]"
     ]
    },
    {
     "name": "stderr",
     "output_type": "stream",
     "text": [
      "22/04/26 23:02:09 WARN DAGScheduler: Broadcasting large task binary with size 1470.0 KiB\n",
      "22/04/26 23:02:09 WARN DAGScheduler: Broadcasting large task binary with size 2.1 MiB\n",
      "22/04/26 23:02:10 WARN DAGScheduler: Broadcasting large task binary with size 2.8 MiB\n",
      "22/04/26 23:02:10 WARN DAGScheduler: Broadcasting large task binary with size 3.7 MiB\n",
      "22/04/26 23:02:10 WARN DAGScheduler: Broadcasting large task binary with size 4.5 MiB\n",
      "22/04/26 23:02:11 WARN DAGScheduler: Broadcasting large task binary with size 5.2 MiB\n",
      "22/04/26 23:02:11 WARN DAGScheduler: Broadcasting large task binary with size 5.8 MiB\n",
      "22/04/26 23:02:12 WARN DAGScheduler: Broadcasting large task binary with size 6.2 MiB\n",
      "22/04/26 23:02:12 WARN DAGScheduler: Broadcasting large task binary with size 6.5 MiB\n"
     ]
    },
    {
     "name": "stdout",
     "output_type": "stream",
     "text": [
      "\r",
      " 40%|██▊    | 40/100 [04:21<09:31,  9.53s/trial, best loss: -0.8243231445631309]"
     ]
    },
    {
     "name": "stderr",
     "output_type": "stream",
     "text": [
      "22/04/26 23:02:13 WARN DAGScheduler: Broadcasting large task binary with size 3.6 MiB\n",
      "22/04/26 23:02:15 WARN DAGScheduler: Broadcasting large task binary with size 1515.3 KiB\n",
      "22/04/26 23:02:16 WARN DAGScheduler: Broadcasting large task binary with size 2.5 MiB\n",
      "22/04/26 23:02:16 WARN DAGScheduler: Broadcasting large task binary with size 3.9 MiB\n",
      "22/04/26 23:02:18 WARN DAGScheduler: Broadcasting large task binary with size 5.8 MiB\n",
      "22/04/26 23:02:19 WARN DAGScheduler: Broadcasting large task binary with size 8.1 MiB\n",
      "22/04/26 23:02:19 WARN DAGScheduler: Broadcasting large task binary with size 1045.7 KiB\n",
      "22/04/26 23:02:20 WARN DAGScheduler: Broadcasting large task binary with size 10.5 MiB\n",
      "22/04/26 23:02:21 WARN DAGScheduler: Broadcasting large task binary with size 1063.9 KiB\n",
      "22/04/26 23:02:22 WARN DAGScheduler: Broadcasting large task binary with size 12.9 MiB\n",
      "22/04/26 23:02:23 WARN DAGScheduler: Broadcasting large task binary with size 14.9 MiB\n",
      "22/04/26 23:02:25 WARN DAGScheduler: Broadcasting large task binary with size 16.5 MiB\n",
      "22/04/26 23:02:27 WARN DAGScheduler: Broadcasting large task binary with size 17.7 MiB\n",
      "22/04/26 23:02:28 WARN DAGScheduler: Broadcasting large task binary with size 18.5 MiB\n",
      "22/04/26 23:02:29 WARN DAGScheduler: Broadcasting large task binary with size 18.9 MiB\n",
      "22/04/26 23:02:31 WARN DAGScheduler: Broadcasting large task binary with size 10.3 MiB\n"
     ]
    },
    {
     "name": "stdout",
     "output_type": "stream",
     "text": [
      "\r",
      " 41%|██▊    | 41/100 [04:39<11:51, 12.05s/trial, best loss: -0.8243231445631309]"
     ]
    },
    {
     "name": "stderr",
     "output_type": "stream",
     "text": [
      "22/04/26 23:02:33 WARN DAGScheduler: Broadcasting large task binary with size 1512.2 KiB\n",
      "22/04/26 23:02:34 WARN DAGScheduler: Broadcasting large task binary with size 2.5 MiB\n",
      "22/04/26 23:02:34 WARN DAGScheduler: Broadcasting large task binary with size 3.9 MiB\n",
      "22/04/26 23:02:35 WARN DAGScheduler: Broadcasting large task binary with size 5.8 MiB\n",
      "22/04/26 23:02:37 WARN DAGScheduler: Broadcasting large task binary with size 3.4 MiB\n"
     ]
    },
    {
     "name": "stdout",
     "output_type": "stream",
     "text": [
      "\r",
      " 42%|██▉    | 42/100 [04:45<09:45, 10.09s/trial, best loss: -0.8243231445631309]"
     ]
    },
    {
     "name": "stderr",
     "output_type": "stream",
     "text": [
      "22/04/26 23:02:39 WARN DAGScheduler: Broadcasting large task binary with size 1219.1 KiB\n"
     ]
    },
    {
     "name": "stdout",
     "output_type": "stream",
     "text": [
      "\r",
      " 43%|███    | 43/100 [04:47<07:21,  7.74s/trial, best loss: -0.8243231445631309]"
     ]
    },
    {
     "name": "stderr",
     "output_type": "stream",
     "text": [
      "22/04/26 23:02:41 WARN DAGScheduler: Broadcasting large task binary with size 1365.8 KiB\n",
      "22/04/26 23:02:41 WARN DAGScheduler: Broadcasting large task binary with size 2.2 MiB\n",
      "22/04/26 23:02:42 WARN DAGScheduler: Broadcasting large task binary with size 3.5 MiB\n",
      "22/04/26 23:02:43 WARN DAGScheduler: Broadcasting large task binary with size 5.2 MiB\n"
     ]
    },
    {
     "name": "stdout",
     "output_type": "stream",
     "text": [
      "\r",
      " 44%|███    | 44/100 [04:53<06:34,  7.04s/trial, best loss: -0.8257690446078789]"
     ]
    },
    {
     "name": "stderr",
     "output_type": "stream",
     "text": [
      "22/04/26 23:02:44 WARN DAGScheduler: Broadcasting large task binary with size 3.0 MiB\n",
      "22/04/26 23:02:46 WARN DAGScheduler: Broadcasting large task binary with size 1365.8 KiB\n",
      "22/04/26 23:02:47 WARN DAGScheduler: Broadcasting large task binary with size 2.2 MiB\n",
      "22/04/26 23:02:47 WARN DAGScheduler: Broadcasting large task binary with size 3.5 MiB\n",
      "22/04/26 23:02:48 WARN DAGScheduler: Broadcasting large task binary with size 5.2 MiB\n",
      "22/04/26 23:02:49 WARN DAGScheduler: Broadcasting large task binary with size 7.2 MiB\n",
      "22/04/26 23:02:50 WARN DAGScheduler: Broadcasting large task binary with size 9.4 MiB\n",
      "22/04/26 23:02:52 WARN DAGScheduler: Broadcasting large task binary with size 11.4 MiB\n",
      "22/04/26 23:02:53 WARN DAGScheduler: Broadcasting large task binary with size 6.5 MiB\n"
     ]
    },
    {
     "name": "stdout",
     "output_type": "stream",
     "text": [
      "\r",
      " 45%|███▏   | 45/100 [05:01<06:57,  7.59s/trial, best loss: -0.8257690446078789]"
     ]
    },
    {
     "name": "stderr",
     "output_type": "stream",
     "text": [
      "22/04/26 23:02:55 WARN DAGScheduler: Broadcasting large task binary with size 1320.3 KiB\n",
      "22/04/26 23:02:56 WARN DAGScheduler: Broadcasting large task binary with size 2.1 MiB\n",
      "22/04/26 23:02:56 WARN DAGScheduler: Broadcasting large task binary with size 3.3 MiB\n",
      "22/04/26 23:02:57 WARN DAGScheduler: Broadcasting large task binary with size 4.8 MiB\n",
      "22/04/26 23:02:58 WARN DAGScheduler: Broadcasting large task binary with size 6.6 MiB\n",
      "22/04/26 23:02:59 WARN DAGScheduler: Broadcasting large task binary with size 8.6 MiB\n",
      "22/04/26 23:03:00 WARN DAGScheduler: Broadcasting large task binary with size 10.6 MiB\n",
      "22/04/26 23:03:02 WARN DAGScheduler: Broadcasting large task binary with size 12.4 MiB\n",
      "22/04/26 23:03:03 WARN DAGScheduler: Broadcasting large task binary with size 7.1 MiB\n"
     ]
    },
    {
     "name": "stdout",
     "output_type": "stream",
     "text": [
      "\r",
      " 46%|███▏   | 46/100 [05:12<07:32,  8.39s/trial, best loss: -0.8257690446078789]"
     ]
    },
    {
     "name": "stderr",
     "output_type": "stream",
     "text": [
      "22/04/26 23:03:05 WARN DAGScheduler: Broadcasting large task binary with size 1494.8 KiB\n",
      "22/04/26 23:03:06 WARN DAGScheduler: Broadcasting large task binary with size 2.3 MiB\n",
      "22/04/26 23:03:06 WARN DAGScheduler: Broadcasting large task binary with size 3.4 MiB\n",
      "22/04/26 23:03:07 WARN DAGScheduler: Broadcasting large task binary with size 4.6 MiB\n"
     ]
    },
    {
     "name": "stdout",
     "output_type": "stream",
     "text": [
      "\r",
      " 47%|███▎   | 47/100 [05:16<06:20,  7.18s/trial, best loss: -0.8257690446078789]"
     ]
    },
    {
     "name": "stderr",
     "output_type": "stream",
     "text": [
      "22/04/26 23:03:08 WARN DAGScheduler: Broadcasting large task binary with size 2.7 MiB\n",
      "22/04/26 23:03:10 WARN DAGScheduler: Broadcasting large task binary with size 1335.4 KiB\n",
      "22/04/26 23:03:10 WARN DAGScheduler: Broadcasting large task binary with size 1911.2 KiB\n",
      "22/04/26 23:03:10 WARN DAGScheduler: Broadcasting large task binary with size 2.5 MiB\n",
      "22/04/26 23:03:11 WARN DAGScheduler: Broadcasting large task binary with size 3.3 MiB\n"
     ]
    },
    {
     "name": "stdout",
     "output_type": "stream",
     "text": [
      "\r",
      " 48%|███▎   | 48/100 [05:20<05:17,  6.11s/trial, best loss: -0.8257690446078789]"
     ]
    },
    {
     "name": "stderr",
     "output_type": "stream",
     "text": [
      "22/04/26 23:03:11 WARN DAGScheduler: Broadcasting large task binary with size 2014.7 KiB\n",
      "22/04/26 23:03:14 WARN DAGScheduler: Broadcasting large task binary with size 1585.3 KiB\n",
      "22/04/26 23:03:14 WARN DAGScheduler: Broadcasting large task binary with size 2.6 MiB\n",
      "22/04/26 23:03:15 WARN DAGScheduler: Broadcasting large task binary with size 4.1 MiB\n",
      "22/04/26 23:03:16 WARN DAGScheduler: Broadcasting large task binary with size 6.0 MiB\n",
      "22/04/26 23:03:17 WARN DAGScheduler: Broadcasting large task binary with size 8.4 MiB\n",
      "22/04/26 23:03:18 WARN DAGScheduler: Broadcasting large task binary with size 1087.4 KiB\n",
      "22/04/26 23:03:19 WARN DAGScheduler: Broadcasting large task binary with size 10.9 MiB\n",
      "22/04/26 23:03:19 WARN DAGScheduler: Broadcasting large task binary with size 1106.8 KiB\n",
      "22/04/26 23:03:20 WARN DAGScheduler: Broadcasting large task binary with size 13.4 MiB\n",
      "22/04/26 23:03:21 WARN DAGScheduler: Broadcasting large task binary with size 1019.3 KiB\n",
      "22/04/26 23:03:22 WARN DAGScheduler: Broadcasting large task binary with size 15.5 MiB\n",
      "22/04/26 23:03:24 WARN DAGScheduler: Broadcasting large task binary with size 17.2 MiB\n",
      "22/04/26 23:03:26 WARN DAGScheduler: Broadcasting large task binary with size 9.6 MiB\n"
     ]
    },
    {
     "name": "stdout",
     "output_type": "stream",
     "text": [
      "\r",
      " 49%|███▍   | 49/100 [05:34<07:16,  8.55s/trial, best loss: -0.8257690446078789]"
     ]
    },
    {
     "name": "stderr",
     "output_type": "stream",
     "text": [
      "22/04/26 23:03:28 WARN DAGScheduler: Broadcasting large task binary with size 1358.9 KiB\n",
      "22/04/26 23:03:28 WARN DAGScheduler: Broadcasting large task binary with size 2.2 MiB\n",
      "22/04/26 23:03:29 WARN DAGScheduler: Broadcasting large task binary with size 3.5 MiB\n"
     ]
    },
    {
     "name": "stdout",
     "output_type": "stream",
     "text": [
      "\r",
      " 50%|███▌   | 50/100 [05:38<06:01,  7.23s/trial, best loss: -0.8257690446078789]"
     ]
    },
    {
     "name": "stderr",
     "output_type": "stream",
     "text": [
      "22/04/26 23:03:30 WARN DAGScheduler: Broadcasting large task binary with size 2.0 MiB\n",
      "22/04/26 23:03:31 WARN DAGScheduler: Broadcasting large task binary with size 1050.0 KiB\n",
      "22/04/26 23:03:32 WARN DAGScheduler: Broadcasting large task binary with size 1490.5 KiB\n"
     ]
    },
    {
     "name": "stdout",
     "output_type": "stream",
     "text": [
      " 52%|███▋   | 52/100 [05:42<03:35,  4.50s/trial, best loss: -0.8257690446078789]"
     ]
    },
    {
     "name": "stderr",
     "output_type": "stream",
     "text": [
      "22/04/26 23:03:35 WARN DAGScheduler: Broadcasting large task binary with size 1289.7 KiB\n",
      "22/04/26 23:03:36 WARN DAGScheduler: Broadcasting large task binary with size 1858.4 KiB\n",
      "22/04/26 23:03:36 WARN DAGScheduler: Broadcasting large task binary with size 2.5 MiB\n",
      "22/04/26 23:03:36 WARN DAGScheduler: Broadcasting large task binary with size 3.2 MiB\n",
      "22/04/26 23:03:37 WARN DAGScheduler: Broadcasting large task binary with size 3.9 MiB\n",
      "22/04/26 23:03:37 WARN DAGScheduler: Broadcasting large task binary with size 4.5 MiB\n",
      "22/04/26 23:03:38 WARN DAGScheduler: Broadcasting large task binary with size 4.9 MiB\n",
      "22/04/26 23:03:38 WARN DAGScheduler: Broadcasting large task binary with size 5.3 MiB\n"
     ]
    },
    {
     "name": "stdout",
     "output_type": "stream",
     "text": [
      "\r",
      " 53%|███▋   | 53/100 [05:47<03:40,  4.70s/trial, best loss: -0.8257690446078789]"
     ]
    },
    {
     "name": "stderr",
     "output_type": "stream",
     "text": [
      "22/04/26 23:03:39 WARN DAGScheduler: Broadcasting large task binary with size 3.0 MiB\n",
      "22/04/26 23:03:41 WARN DAGScheduler: Broadcasting large task binary with size 1363.8 KiB\n",
      "22/04/26 23:03:41 WARN DAGScheduler: Broadcasting large task binary with size 2.0 MiB\n",
      "22/04/26 23:03:42 WARN DAGScheduler: Broadcasting large task binary with size 2.9 MiB\n",
      "22/04/26 23:03:42 WARN DAGScheduler: Broadcasting large task binary with size 4.0 MiB\n",
      "22/04/26 23:03:43 WARN DAGScheduler: Broadcasting large task binary with size 5.2 MiB\n",
      "22/04/26 23:03:43 WARN DAGScheduler: Broadcasting large task binary with size 6.4 MiB\n",
      "22/04/26 23:03:44 WARN DAGScheduler: Broadcasting large task binary with size 7.5 MiB\n",
      "22/04/26 23:03:45 WARN DAGScheduler: Broadcasting large task binary with size 8.4 MiB\n",
      "22/04/26 23:03:46 WARN DAGScheduler: Broadcasting large task binary with size 9.1 MiB\n",
      "22/04/26 23:03:47 WARN DAGScheduler: Broadcasting large task binary with size 9.6 MiB\n",
      "22/04/26 23:03:48 WARN DAGScheduler: Broadcasting large task binary with size 5.3 MiB\n"
     ]
    },
    {
     "name": "stdout",
     "output_type": "stream",
     "text": [
      "\r",
      " 54%|███▊   | 54/100 [05:56<04:36,  6.01s/trial, best loss: -0.8257690446078789]"
     ]
    },
    {
     "name": "stderr",
     "output_type": "stream",
     "text": [
      "22/04/26 23:03:50 WARN DAGScheduler: Broadcasting large task binary with size 1180.1 KiB\n"
     ]
    },
    {
     "name": "stdout",
     "output_type": "stream",
     "text": [
      "\r",
      " 55%|███▊   | 55/100 [05:59<03:41,  4.93s/trial, best loss: -0.8257690446078789]"
     ]
    },
    {
     "name": "stderr",
     "output_type": "stream",
     "text": [
      "22/04/26 23:03:53 WARN DAGScheduler: Broadcasting large task binary with size 1670.7 KiB\n",
      "22/04/26 23:03:53 WARN DAGScheduler: Broadcasting large task binary with size 2.7 MiB\n",
      "22/04/26 23:03:54 WARN DAGScheduler: Broadcasting large task binary with size 4.3 MiB\n",
      "22/04/26 23:03:55 WARN DAGScheduler: Broadcasting large task binary with size 6.4 MiB\n",
      "22/04/26 23:03:56 WARN DAGScheduler: Broadcasting large task binary with size 1018.9 KiB\n",
      "22/04/26 23:03:57 WARN DAGScheduler: Broadcasting large task binary with size 8.9 MiB\n",
      "22/04/26 23:03:57 WARN DAGScheduler: Broadcasting large task binary with size 1145.2 KiB\n",
      "22/04/26 23:03:58 WARN DAGScheduler: Broadcasting large task binary with size 11.6 MiB\n",
      "22/04/26 23:03:59 WARN DAGScheduler: Broadcasting large task binary with size 1168.7 KiB\n",
      "22/04/26 23:04:00 WARN DAGScheduler: Broadcasting large task binary with size 14.2 MiB\n",
      "22/04/26 23:04:01 WARN DAGScheduler: Broadcasting large task binary with size 1079.3 KiB\n",
      "22/04/26 23:04:02 WARN DAGScheduler: Broadcasting large task binary with size 16.4 MiB\n",
      "22/04/26 23:04:04 WARN DAGScheduler: Broadcasting large task binary with size 18.2 MiB\n",
      "22/04/26 23:04:06 WARN DAGScheduler: Broadcasting large task binary with size 19.4 MiB\n",
      "22/04/26 23:04:07 WARN DAGScheduler: Broadcasting large task binary with size 20.2 MiB\n",
      "22/04/26 23:04:10 WARN DAGScheduler: Broadcasting large task binary with size 20.7 MiB\n",
      "22/04/26 23:04:11 WARN DAGScheduler: Broadcasting large task binary with size 20.8 MiB\n",
      "22/04/26 23:04:13 WARN DAGScheduler: Broadcasting large task binary with size 11.3 MiB\n"
     ]
    },
    {
     "name": "stdout",
     "output_type": "stream",
     "text": [
      "\r",
      " 56%|███▉   | 56/100 [06:22<07:40, 10.48s/trial, best loss: -0.8257690446078789]"
     ]
    },
    {
     "name": "stderr",
     "output_type": "stream",
     "text": [
      "22/04/26 23:04:16 WARN DAGScheduler: Broadcasting large task binary with size 1299.0 KiB\n",
      "22/04/26 23:04:16 WARN DAGScheduler: Broadcasting large task binary with size 1998.8 KiB\n",
      "22/04/26 23:04:17 WARN DAGScheduler: Broadcasting large task binary with size 2.9 MiB\n"
     ]
    },
    {
     "name": "stdout",
     "output_type": "stream",
     "text": [
      "\r",
      " 57%|███▉   | 57/100 [06:26<06:01,  8.41s/trial, best loss: -0.8257690446078789]"
     ]
    },
    {
     "name": "stderr",
     "output_type": "stream",
     "text": [
      "22/04/26 23:04:17 WARN DAGScheduler: Broadcasting large task binary with size 1758.4 KiB\n",
      "22/04/26 23:04:19 WARN DAGScheduler: Broadcasting large task binary with size 1409.1 KiB\n",
      "22/04/26 23:04:20 WARN DAGScheduler: Broadcasting large task binary with size 2.3 MiB\n"
     ]
    },
    {
     "name": "stdout",
     "output_type": "stream",
     "text": [
      "\r",
      " 58%|████   | 58/100 [06:29<04:49,  6.89s/trial, best loss: -0.8257690446078789]"
     ]
    },
    {
     "name": "stderr",
     "output_type": "stream",
     "text": [
      "22/04/26 23:04:21 WARN DAGScheduler: Broadcasting large task binary with size 1311.8 KiB\n"
     ]
    },
    {
     "name": "stdout",
     "output_type": "stream",
     "text": [
      "\r",
      " 59%|████▏  | 59/100 [06:30<03:36,  5.29s/trial, best loss: -0.8257690446078789]"
     ]
    },
    {
     "name": "stderr",
     "output_type": "stream",
     "text": [
      "22/04/26 23:04:24 WARN DAGScheduler: Broadcasting large task binary with size 1037.0 KiB\n",
      "22/04/26 23:04:24 WARN DAGScheduler: Broadcasting large task binary with size 1477.0 KiB\n",
      "22/04/26 23:04:24 WARN DAGScheduler: Broadcasting large task binary with size 1997.3 KiB\n",
      "22/04/26 23:04:25 WARN DAGScheduler: Broadcasting large task binary with size 2.5 MiB\n",
      "22/04/26 23:04:25 WARN DAGScheduler: Broadcasting large task binary with size 3.0 MiB\n",
      "22/04/26 23:04:25 WARN DAGScheduler: Broadcasting large task binary with size 3.4 MiB\n"
     ]
    },
    {
     "name": "stdout",
     "output_type": "stream",
     "text": [
      "\r",
      " 60%|████▏  | 60/100 [06:34<03:11,  4.78s/trial, best loss: -0.8257690446078789]"
     ]
    },
    {
     "name": "stderr",
     "output_type": "stream",
     "text": [
      "22/04/26 23:04:26 WARN DAGScheduler: Broadcasting large task binary with size 2.0 MiB\n",
      "22/04/26 23:04:28 WARN DAGScheduler: Broadcasting large task binary with size 1041.7 KiB\n",
      "22/04/26 23:04:28 WARN DAGScheduler: Broadcasting large task binary with size 1684.3 KiB\n",
      "22/04/26 23:04:28 WARN DAGScheduler: Broadcasting large task binary with size 2.5 MiB\n",
      "22/04/26 23:04:29 WARN DAGScheduler: Broadcasting large task binary with size 3.7 MiB\n",
      "22/04/26 23:04:30 WARN DAGScheduler: Broadcasting large task binary with size 5.1 MiB\n",
      "22/04/26 23:04:31 WARN DAGScheduler: Broadcasting large task binary with size 6.6 MiB\n",
      "22/04/26 23:04:32 WARN DAGScheduler: Broadcasting large task binary with size 8.1 MiB\n",
      "22/04/26 23:04:33 WARN DAGScheduler: Broadcasting large task binary with size 9.5 MiB\n",
      "22/04/26 23:04:34 WARN DAGScheduler: Broadcasting large task binary with size 10.6 MiB\n",
      "22/04/26 23:04:35 WARN DAGScheduler: Broadcasting large task binary with size 11.5 MiB\n",
      "22/04/26 23:04:36 WARN DAGScheduler: Broadcasting large task binary with size 12.1 MiB\n",
      "22/04/26 23:04:37 WARN DAGScheduler: Broadcasting large task binary with size 12.4 MiB\n",
      "22/04/26 23:04:38 WARN DAGScheduler: Broadcasting large task binary with size 6.8 MiB\n"
     ]
    },
    {
     "name": "stdout",
     "output_type": "stream",
     "text": [
      "\r",
      " 61%|████▎  | 61/100 [06:46<04:31,  6.97s/trial, best loss: -0.8257690446078789]"
     ]
    },
    {
     "name": "stderr",
     "output_type": "stream",
     "text": [
      "22/04/26 23:04:40 WARN DAGScheduler: Broadcasting large task binary with size 1256.1 KiB\n",
      "22/04/26 23:04:40 WARN DAGScheduler: Broadcasting large task binary with size 1933.9 KiB\n",
      "22/04/26 23:04:40 WARN DAGScheduler: Broadcasting large task binary with size 2.8 MiB\n",
      "22/04/26 23:04:41 WARN DAGScheduler: Broadcasting large task binary with size 3.8 MiB\n",
      "22/04/26 23:04:41 WARN DAGScheduler: Broadcasting large task binary with size 4.9 MiB\n"
     ]
    },
    {
     "name": "stdout",
     "output_type": "stream",
     "text": [
      "\r",
      " 62%|████▎  | 62/100 [06:50<03:52,  6.12s/trial, best loss: -0.8257690446078789]"
     ]
    },
    {
     "name": "stderr",
     "output_type": "stream",
     "text": [
      "22/04/26 23:04:42 WARN DAGScheduler: Broadcasting large task binary with size 2.9 MiB\n",
      "22/04/26 23:04:44 WARN DAGScheduler: Broadcasting large task binary with size 1481.2 KiB\n",
      "22/04/26 23:04:44 WARN DAGScheduler: Broadcasting large task binary with size 2.2 MiB\n",
      "22/04/26 23:04:45 WARN DAGScheduler: Broadcasting large task binary with size 3.3 MiB\n"
     ]
    },
    {
     "name": "stdout",
     "output_type": "stream",
     "text": [
      "\r",
      " 63%|████▍  | 63/100 [06:54<03:15,  5.29s/trial, best loss: -0.8257690446078789]"
     ]
    },
    {
     "name": "stderr",
     "output_type": "stream",
     "text": [
      "22/04/26 23:04:45 WARN DAGScheduler: Broadcasting large task binary with size 2019.6 KiB\n",
      "22/04/26 23:04:47 WARN DAGScheduler: Broadcasting large task binary with size 1585.5 KiB\n",
      "22/04/26 23:04:48 WARN DAGScheduler: Broadcasting large task binary with size 2.6 MiB\n",
      "22/04/26 23:04:49 WARN DAGScheduler: Broadcasting large task binary with size 4.1 MiB\n",
      "22/04/26 23:04:49 WARN DAGScheduler: Broadcasting large task binary with size 6.0 MiB\n",
      "22/04/26 23:04:51 WARN DAGScheduler: Broadcasting large task binary with size 8.3 MiB\n",
      "22/04/26 23:04:51 WARN DAGScheduler: Broadcasting large task binary with size 1063.6 KiB\n",
      "22/04/26 23:04:52 WARN DAGScheduler: Broadcasting large task binary with size 10.8 MiB\n",
      "22/04/26 23:04:53 WARN DAGScheduler: Broadcasting large task binary with size 1079.7 KiB\n",
      "22/04/26 23:04:54 WARN DAGScheduler: Broadcasting large task binary with size 13.2 MiB\n",
      "22/04/26 23:04:55 WARN DAGScheduler: Broadcasting large task binary with size 1002.2 KiB\n",
      "22/04/26 23:04:56 WARN DAGScheduler: Broadcasting large task binary with size 7.5 MiB\n"
     ]
    },
    {
     "name": "stdout",
     "output_type": "stream",
     "text": [
      " 65%|████▌  | 65/100 [07:07<03:16,  5.61s/trial, best loss: -0.8257690446078789]"
     ]
    },
    {
     "name": "stderr",
     "output_type": "stream",
     "text": [
      "22/04/26 23:05:01 WARN DAGScheduler: Broadcasting large task binary with size 1565.6 KiB\n",
      "22/04/26 23:05:02 WARN DAGScheduler: Broadcasting large task binary with size 2.6 MiB\n",
      "22/04/26 23:05:02 WARN DAGScheduler: Broadcasting large task binary with size 4.0 MiB\n",
      "22/04/26 23:05:04 WARN DAGScheduler: Broadcasting large task binary with size 6.0 MiB\n",
      "                                                                                \r"
     ]
    },
    {
     "name": "stdout",
     "output_type": "stream",
     "text": [
      "\r",
      " 66%|████▌  | 66/100 [07:13<03:18,  5.83s/trial, best loss: -0.8257690446078789]"
     ]
    },
    {
     "name": "stderr",
     "output_type": "stream",
     "text": [
      "22/04/26 23:05:05 WARN DAGScheduler: Broadcasting large task binary with size 3.5 MiB\n",
      "22/04/26 23:05:07 WARN DAGScheduler: Broadcasting large task binary with size 1607.6 KiB\n",
      "22/04/26 23:05:08 WARN DAGScheduler: Broadcasting large task binary with size 2.6 MiB\n",
      "22/04/26 23:05:09 WARN DAGScheduler: Broadcasting large task binary with size 4.2 MiB\n",
      "22/04/26 23:05:10 WARN DAGScheduler: Broadcasting large task binary with size 6.2 MiB\n",
      "                                                                                \r"
     ]
    },
    {
     "name": "stdout",
     "output_type": "stream",
     "text": [
      "\r",
      " 67%|████▋  | 67/100 [07:19<03:14,  5.89s/trial, best loss: -0.8257690446078789]"
     ]
    },
    {
     "name": "stderr",
     "output_type": "stream",
     "text": [
      "22/04/26 23:05:11 WARN DAGScheduler: Broadcasting large task binary with size 3.6 MiB\n",
      "22/04/26 23:05:13 WARN DAGScheduler: Broadcasting large task binary with size 1625.2 KiB\n",
      "22/04/26 23:05:13 WARN DAGScheduler: Broadcasting large task binary with size 2.5 MiB\n",
      "22/04/26 23:05:14 WARN DAGScheduler: Broadcasting large task binary with size 3.7 MiB\n"
     ]
    },
    {
     "name": "stdout",
     "output_type": "stream",
     "text": [
      "\r",
      " 68%|████▊  | 68/100 [07:23<02:48,  5.28s/trial, best loss: -0.8257690446078789]"
     ]
    },
    {
     "name": "stderr",
     "output_type": "stream",
     "text": [
      "22/04/26 23:05:15 WARN DAGScheduler: Broadcasting large task binary with size 2.2 MiB\n",
      "22/04/26 23:05:17 WARN DAGScheduler: Broadcasting large task binary with size 1446.7 KiB\n",
      "22/04/26 23:05:17 WARN DAGScheduler: Broadcasting large task binary with size 2.0 MiB\n"
     ]
    },
    {
     "name": "stdout",
     "output_type": "stream",
     "text": [
      "\r",
      " 69%|█████▌  | 69/100 [07:26<02:21,  4.55s/trial, best loss: -0.828692410087759]"
     ]
    },
    {
     "name": "stderr",
     "output_type": "stream",
     "text": [
      "22/04/26 23:05:18 WARN DAGScheduler: Broadcasting large task binary with size 1275.1 KiB\n",
      "22/04/26 23:05:19 WARN DAGScheduler: Broadcasting large task binary with size 1446.7 KiB\n",
      "22/04/26 23:05:20 WARN DAGScheduler: Broadcasting large task binary with size 2.0 MiB\n"
     ]
    },
    {
     "name": "stdout",
     "output_type": "stream",
     "text": [
      "\r",
      " 70%|█████▌  | 70/100 [07:28<01:57,  3.92s/trial, best loss: -0.828692410087759]"
     ]
    },
    {
     "name": "stderr",
     "output_type": "stream",
     "text": [
      "22/04/26 23:05:20 WARN DAGScheduler: Broadcasting large task binary with size 1275.1 KiB\n",
      "22/04/26 23:05:22 WARN DAGScheduler: Broadcasting large task binary with size 1446.7 KiB\n",
      "22/04/26 23:05:22 WARN DAGScheduler: Broadcasting large task binary with size 2.0 MiB\n"
     ]
    },
    {
     "name": "stdout",
     "output_type": "stream",
     "text": [
      "\r",
      " 71%|█████▋  | 71/100 [07:31<01:42,  3.54s/trial, best loss: -0.828692410087759]"
     ]
    },
    {
     "name": "stderr",
     "output_type": "stream",
     "text": [
      "22/04/26 23:05:23 WARN DAGScheduler: Broadcasting large task binary with size 1275.1 KiB\n",
      "22/04/26 23:05:24 WARN DAGScheduler: Broadcasting large task binary with size 1041.3 KiB\n",
      "22/04/26 23:05:25 WARN DAGScheduler: Broadcasting large task binary with size 1578.5 KiB\n",
      "22/04/26 23:05:25 WARN DAGScheduler: Broadcasting large task binary with size 2.2 MiB\n",
      "22/04/26 23:05:25 WARN DAGScheduler: Broadcasting large task binary with size 3.1 MiB\n",
      "22/04/26 23:05:26 WARN DAGScheduler: Broadcasting large task binary with size 4.0 MiB\n",
      "22/04/26 23:05:26 WARN DAGScheduler: Broadcasting large task binary with size 4.8 MiB\n",
      "22/04/26 23:05:27 WARN DAGScheduler: Broadcasting large task binary with size 5.6 MiB\n",
      "22/04/26 23:05:28 WARN DAGScheduler: Broadcasting large task binary with size 6.2 MiB\n"
     ]
    },
    {
     "name": "stdout",
     "output_type": "stream",
     "text": [
      "\r",
      " 72%|█████▊  | 72/100 [07:37<01:55,  4.12s/trial, best loss: -0.828692410087759]"
     ]
    },
    {
     "name": "stderr",
     "output_type": "stream",
     "text": [
      "22/04/26 23:05:28 WARN DAGScheduler: Broadcasting large task binary with size 3.5 MiB\n",
      "22/04/26 23:05:30 WARN DAGScheduler: Broadcasting large task binary with size 1446.7 KiB\n",
      "22/04/26 23:05:30 WARN DAGScheduler: Broadcasting large task binary with size 2.0 MiB\n",
      "22/04/26 23:05:31 WARN DAGScheduler: Broadcasting large task binary with size 2.8 MiB\n"
     ]
    },
    {
     "name": "stdout",
     "output_type": "stream",
     "text": [
      "\r",
      " 73%|█████▊  | 73/100 [07:40<01:42,  3.78s/trial, best loss: -0.828692410087759]"
     ]
    },
    {
     "name": "stderr",
     "output_type": "stream",
     "text": [
      "22/04/26 23:05:31 WARN DAGScheduler: Broadcasting large task binary with size 1731.1 KiB\n",
      "22/04/26 23:05:33 WARN DAGScheduler: Broadcasting large task binary with size 1234.6 KiB\n"
     ]
    },
    {
     "name": "stdout",
     "output_type": "stream",
     "text": [
      "\r",
      " 74%|█████▉  | 74/100 [07:42<01:24,  3.26s/trial, best loss: -0.828692410087759]"
     ]
    },
    {
     "name": "stderr",
     "output_type": "stream",
     "text": [
      "22/04/26 23:05:35 WARN DAGScheduler: Broadcasting large task binary with size 1314.1 KiB\n"
     ]
    },
    {
     "name": "stdout",
     "output_type": "stream",
     "text": [
      "\r",
      " 75%|██████  | 75/100 [07:44<01:15,  3.01s/trial, best loss: -0.828692410087759]"
     ]
    },
    {
     "name": "stderr",
     "output_type": "stream",
     "text": [
      "22/04/26 23:05:37 WARN DAGScheduler: Broadcasting large task binary with size 1446.7 KiB\n",
      "22/04/26 23:05:38 WARN DAGScheduler: Broadcasting large task binary with size 2.0 MiB\n"
     ]
    },
    {
     "name": "stdout",
     "output_type": "stream",
     "text": [
      "\r",
      " 76%|██████  | 76/100 [07:46<01:08,  2.84s/trial, best loss: -0.828692410087759]"
     ]
    },
    {
     "name": "stderr",
     "output_type": "stream",
     "text": [
      "22/04/26 23:05:38 WARN DAGScheduler: Broadcasting large task binary with size 1275.1 KiB\n",
      "22/04/26 23:05:40 WARN DAGScheduler: Broadcasting large task binary with size 1030.8 KiB\n",
      "22/04/26 23:05:40 WARN DAGScheduler: Broadcasting large task binary with size 1682.0 KiB\n",
      "22/04/26 23:05:41 WARN DAGScheduler: Broadcasting large task binary with size 2.6 MiB\n",
      "22/04/26 23:05:41 WARN DAGScheduler: Broadcasting large task binary with size 3.8 MiB\n",
      "22/04/26 23:05:42 WARN DAGScheduler: Broadcasting large task binary with size 5.2 MiB\n",
      "22/04/26 23:05:43 WARN DAGScheduler: Broadcasting large task binary with size 6.8 MiB\n",
      "22/04/26 23:05:44 WARN DAGScheduler: Broadcasting large task binary with size 8.3 MiB\n",
      "22/04/26 23:05:45 WARN DAGScheduler: Broadcasting large task binary with size 9.6 MiB\n",
      "22/04/26 23:05:46 WARN DAGScheduler: Broadcasting large task binary with size 10.7 MiB\n",
      "22/04/26 23:05:47 WARN DAGScheduler: Broadcasting large task binary with size 11.4 MiB\n",
      "22/04/26 23:05:48 WARN DAGScheduler: Broadcasting large task binary with size 6.3 MiB\n"
     ]
    },
    {
     "name": "stdout",
     "output_type": "stream",
     "text": [
      "\r",
      " 77%|██████▏ | 77/100 [07:57<01:55,  5.02s/trial, best loss: -0.828692410087759]"
     ]
    },
    {
     "name": "stderr",
     "output_type": "stream",
     "text": [
      "22/04/26 23:05:50 WARN DAGScheduler: Broadcasting large task binary with size 1446.7 KiB\n",
      "22/04/26 23:05:50 WARN DAGScheduler: Broadcasting large task binary with size 2.0 MiB\n",
      "22/04/26 23:05:51 WARN DAGScheduler: Broadcasting large task binary with size 2.8 MiB\n",
      "22/04/26 23:05:51 WARN DAGScheduler: Broadcasting large task binary with size 3.6 MiB\n",
      "22/04/26 23:05:52 WARN DAGScheduler: Broadcasting large task binary with size 4.4 MiB\n",
      "22/04/26 23:05:52 WARN DAGScheduler: Broadcasting large task binary with size 5.1 MiB\n",
      "22/04/26 23:05:53 WARN DAGScheduler: Broadcasting large task binary with size 5.7 MiB\n",
      "22/04/26 23:05:53 WARN DAGScheduler: Broadcasting large task binary with size 6.0 MiB\n",
      "22/04/26 23:05:53 WARN DAGScheduler: Broadcasting large task binary with size 6.3 MiB\n"
     ]
    },
    {
     "name": "stdout",
     "output_type": "stream",
     "text": [
      "\r",
      " 78%|██████▏ | 78/100 [08:02<01:56,  5.29s/trial, best loss: -0.828692410087759]"
     ]
    },
    {
     "name": "stderr",
     "output_type": "stream",
     "text": [
      "22/04/26 23:05:54 WARN DAGScheduler: Broadcasting large task binary with size 3.5 MiB\n"
     ]
    },
    {
     "name": "stdout",
     "output_type": "stream",
     "text": [
      "\r",
      " 79%|██████▎ | 79/100 [08:04<01:26,  4.13s/trial, best loss: -0.828692410087759]"
     ]
    },
    {
     "name": "stderr",
     "output_type": "stream",
     "text": [
      "22/04/26 23:05:58 WARN DAGScheduler: Broadcasting large task binary with size 1559.0 KiB\n",
      "22/04/26 23:05:58 WARN DAGScheduler: Broadcasting large task binary with size 2.3 MiB\n",
      "22/04/26 23:05:58 WARN DAGScheduler: Broadcasting large task binary with size 3.4 MiB\n",
      "22/04/26 23:05:59 WARN DAGScheduler: Broadcasting large task binary with size 4.6 MiB\n",
      "22/04/26 23:06:00 WARN DAGScheduler: Broadcasting large task binary with size 6.0 MiB\n",
      "22/04/26 23:06:01 WARN DAGScheduler: Broadcasting large task binary with size 7.4 MiB\n",
      "22/04/26 23:06:02 WARN DAGScheduler: Broadcasting large task binary with size 8.6 MiB\n",
      "22/04/26 23:06:03 WARN DAGScheduler: Broadcasting large task binary with size 9.7 MiB\n",
      "22/04/26 23:06:04 WARN DAGScheduler: Broadcasting large task binary with size 10.5 MiB\n",
      "22/04/26 23:06:05 WARN DAGScheduler: Broadcasting large task binary with size 11.0 MiB\n",
      "22/04/26 23:06:05 WARN DAGScheduler: Broadcasting large task binary with size 11.4 MiB\n",
      "22/04/26 23:06:06 WARN DAGScheduler: Broadcasting large task binary with size 11.6 MiB\n",
      "22/04/26 23:06:07 WARN DAGScheduler: Broadcasting large task binary with size 6.3 MiB\n"
     ]
    },
    {
     "name": "stdout",
     "output_type": "stream",
     "text": [
      "\r",
      " 80%|██████▍ | 80/100 [08:16<02:08,  6.45s/trial, best loss: -0.828692410087759]"
     ]
    },
    {
     "name": "stderr",
     "output_type": "stream",
     "text": [
      "22/04/26 23:06:10 WARN DAGScheduler: Broadcasting large task binary with size 1425.3 KiB\n",
      "22/04/26 23:06:10 WARN DAGScheduler: Broadcasting large task binary with size 2.3 MiB\n",
      "22/04/26 23:06:11 WARN DAGScheduler: Broadcasting large task binary with size 3.7 MiB\n",
      "22/04/26 23:06:12 WARN DAGScheduler: Broadcasting large task binary with size 5.4 MiB\n",
      "22/04/26 23:06:13 WARN DAGScheduler: Broadcasting large task binary with size 3.1 MiB\n"
     ]
    },
    {
     "name": "stdout",
     "output_type": "stream",
     "text": [
      " 82%|██████▌ | 82/100 [08:24<01:30,  5.00s/trial, best loss: -0.828692410087759]"
     ]
    },
    {
     "name": "stderr",
     "output_type": "stream",
     "text": [
      "22/04/26 23:06:18 WARN DAGScheduler: Broadcasting large task binary with size 1674.7 KiB\n",
      "22/04/26 23:06:18 WARN DAGScheduler: Broadcasting large task binary with size 2.7 MiB\n",
      "22/04/26 23:06:19 WARN DAGScheduler: Broadcasting large task binary with size 4.3 MiB\n",
      "22/04/26 23:06:20 WARN DAGScheduler: Broadcasting large task binary with size 6.4 MiB\n",
      "22/04/26 23:06:21 WARN DAGScheduler: Broadcasting large task binary with size 1023.1 KiB\n",
      "22/04/26 23:06:21 WARN DAGScheduler: Broadcasting large task binary with size 8.9 MiB\n",
      "22/04/26 23:06:22 WARN DAGScheduler: Broadcasting large task binary with size 1158.5 KiB\n",
      "22/04/26 23:06:23 WARN DAGScheduler: Broadcasting large task binary with size 11.6 MiB\n",
      "22/04/26 23:06:24 WARN DAGScheduler: Broadcasting large task binary with size 1178.3 KiB\n",
      "22/04/26 23:06:25 WARN DAGScheduler: Broadcasting large task binary with size 14.3 MiB\n",
      "22/04/26 23:06:26 WARN DAGScheduler: Broadcasting large task binary with size 1086.3 KiB\n",
      "22/04/26 23:06:27 WARN DAGScheduler: Broadcasting large task binary with size 16.5 MiB\n",
      "22/04/26 23:06:29 WARN DAGScheduler: Broadcasting large task binary with size 9.3 MiB\n"
     ]
    },
    {
     "name": "stdout",
     "output_type": "stream",
     "text": [
      "\r",
      " 83%|██████▋ | 83/100 [08:38<02:10,  7.67s/trial, best loss: -0.828692410087759]"
     ]
    },
    {
     "name": "stderr",
     "output_type": "stream",
     "text": [
      "22/04/26 23:06:31 WARN DAGScheduler: Broadcasting large task binary with size 1105.6 KiB\n",
      "22/04/26 23:06:31 WARN DAGScheduler: Broadcasting large task binary with size 1817.6 KiB\n",
      "22/04/26 23:06:32 WARN DAGScheduler: Broadcasting large task binary with size 2.8 MiB\n",
      "22/04/26 23:06:32 WARN DAGScheduler: Broadcasting large task binary with size 4.1 MiB\n",
      "22/04/26 23:06:33 WARN DAGScheduler: Broadcasting large task binary with size 5.7 MiB\n",
      "22/04/26 23:06:34 WARN DAGScheduler: Broadcasting large task binary with size 7.3 MiB\n"
     ]
    },
    {
     "name": "stdout",
     "output_type": "stream",
     "text": [
      "\r",
      " 84%|██████▋ | 84/100 [08:44<01:55,  7.20s/trial, best loss: -0.828692410087759]"
     ]
    },
    {
     "name": "stderr",
     "output_type": "stream",
     "text": [
      "22/04/26 23:06:35 WARN DAGScheduler: Broadcasting large task binary with size 4.3 MiB\n",
      "22/04/26 23:06:37 WARN DAGScheduler: Broadcasting large task binary with size 1104.9 KiB\n",
      "22/04/26 23:06:37 WARN DAGScheduler: Broadcasting large task binary with size 1802.1 KiB\n",
      "22/04/26 23:06:38 WARN DAGScheduler: Broadcasting large task binary with size 2.7 MiB\n",
      "22/04/26 23:06:38 WARN DAGScheduler: Broadcasting large task binary with size 4.0 MiB\n",
      "22/04/26 23:06:39 WARN DAGScheduler: Broadcasting large task binary with size 5.5 MiB\n",
      "22/04/26 23:06:40 WARN DAGScheduler: Broadcasting large task binary with size 7.2 MiB\n",
      "22/04/26 23:06:41 WARN DAGScheduler: Broadcasting large task binary with size 8.8 MiB\n",
      "22/04/26 23:06:42 WARN DAGScheduler: Broadcasting large task binary with size 10.2 MiB\n",
      "22/04/26 23:06:43 WARN DAGScheduler: Broadcasting large task binary with size 11.4 MiB\n",
      "22/04/26 23:06:44 WARN DAGScheduler: Broadcasting large task binary with size 12.2 MiB\n",
      "22/04/26 23:06:45 WARN DAGScheduler: Broadcasting large task binary with size 12.8 MiB\n",
      "22/04/26 23:06:46 WARN DAGScheduler: Broadcasting large task binary with size 13.2 MiB\n",
      "22/04/26 23:06:48 WARN DAGScheduler: Broadcasting large task binary with size 7.2 MiB\n"
     ]
    },
    {
     "name": "stdout",
     "output_type": "stream",
     "text": [
      "\r",
      " 85%|██████▊ | 85/100 [08:56<02:10,  8.72s/trial, best loss: -0.828692410087759]"
     ]
    },
    {
     "name": "stderr",
     "output_type": "stream",
     "text": [
      "22/04/26 23:06:50 WARN DAGScheduler: Broadcasting large task binary with size 1099.9 KiB\n",
      "22/04/26 23:06:50 WARN DAGScheduler: Broadcasting large task binary with size 1800.1 KiB\n",
      "22/04/26 23:06:50 WARN DAGScheduler: Broadcasting large task binary with size 2.7 MiB\n",
      "22/04/26 23:06:51 WARN DAGScheduler: Broadcasting large task binary with size 4.0 MiB\n"
     ]
    },
    {
     "name": "stdout",
     "output_type": "stream",
     "text": [
      "\r",
      " 86%|██████▉ | 86/100 [09:00<01:44,  7.45s/trial, best loss: -0.828692410087759]"
     ]
    },
    {
     "name": "stderr",
     "output_type": "stream",
     "text": [
      "22/04/26 23:06:52 WARN DAGScheduler: Broadcasting large task binary with size 2.4 MiB\n",
      "22/04/26 23:06:54 WARN DAGScheduler: Broadcasting large task binary with size 1446.7 KiB\n",
      "22/04/26 23:06:54 WARN DAGScheduler: Broadcasting large task binary with size 2.0 MiB\n",
      "22/04/26 23:06:55 WARN DAGScheduler: Broadcasting large task binary with size 2.8 MiB\n",
      "22/04/26 23:06:55 WARN DAGScheduler: Broadcasting large task binary with size 3.6 MiB\n",
      "22/04/26 23:06:56 WARN DAGScheduler: Broadcasting large task binary with size 4.4 MiB\n"
     ]
    },
    {
     "name": "stdout",
     "output_type": "stream",
     "text": [
      "\r",
      " 87%|██████▉ | 87/100 [09:05<01:24,  6.47s/trial, best loss: -0.828692410087759]"
     ]
    },
    {
     "name": "stderr",
     "output_type": "stream",
     "text": [
      "22/04/26 23:06:56 WARN DAGScheduler: Broadcasting large task binary with size 2.6 MiB\n",
      "22/04/26 23:06:58 WARN DAGScheduler: Broadcasting large task binary with size 1214.1 KiB\n",
      "22/04/26 23:06:59 WARN DAGScheduler: Broadcasting large task binary with size 2007.3 KiB\n",
      "22/04/26 23:06:59 WARN DAGScheduler: Broadcasting large task binary with size 3.1 MiB\n",
      "22/04/26 23:07:00 WARN DAGScheduler: Broadcasting large task binary with size 4.5 MiB\n",
      "22/04/26 23:07:01 WARN DAGScheduler: Broadcasting large task binary with size 6.3 MiB\n",
      "22/04/26 23:07:02 WARN DAGScheduler: Broadcasting large task binary with size 8.1 MiB\n",
      "22/04/26 23:07:03 WARN DAGScheduler: Broadcasting large task binary with size 9.9 MiB\n",
      "22/04/26 23:07:05 WARN DAGScheduler: Broadcasting large task binary with size 11.4 MiB\n",
      "22/04/26 23:07:06 WARN DAGScheduler: Broadcasting large task binary with size 12.7 MiB\n",
      "22/04/26 23:07:07 WARN DAGScheduler: Broadcasting large task binary with size 7.1 MiB\n"
     ]
    },
    {
     "name": "stdout",
     "output_type": "stream",
     "text": [
      "\r",
      " 88%|███████ | 88/100 [09:16<01:34,  7.85s/trial, best loss: -0.828692410087759]"
     ]
    },
    {
     "name": "stderr",
     "output_type": "stream",
     "text": [
      "22/04/26 23:07:09 WARN DAGScheduler: Broadcasting large task binary with size 1102.1 KiB\n",
      "22/04/26 23:07:09 WARN DAGScheduler: Broadcasting large task binary with size 1654.9 KiB\n",
      "22/04/26 23:07:10 WARN DAGScheduler: Broadcasting large task binary with size 2.3 MiB\n"
     ]
    },
    {
     "name": "stdout",
     "output_type": "stream",
     "text": [
      "\r",
      " 89%|███████ | 89/100 [09:19<01:10,  6.41s/trial, best loss: -0.828692410087759]"
     ]
    },
    {
     "name": "stderr",
     "output_type": "stream",
     "text": [
      "22/04/26 23:07:11 WARN DAGScheduler: Broadcasting large task binary with size 1426.9 KiB\n"
     ]
    },
    {
     "name": "stdout",
     "output_type": "stream",
     "text": [
      "\r",
      " 90%|███████▏| 90/100 [09:20<00:49,  4.96s/trial, best loss: -0.828692410087759]"
     ]
    },
    {
     "name": "stderr",
     "output_type": "stream",
     "text": [
      "22/04/26 23:07:14 WARN DAGScheduler: Broadcasting large task binary with size 1660.8 KiB\n",
      "22/04/26 23:07:15 WARN DAGScheduler: Broadcasting large task binary with size 2.7 MiB\n",
      "22/04/26 23:07:15 WARN DAGScheduler: Broadcasting large task binary with size 4.3 MiB\n",
      "22/04/26 23:07:16 WARN DAGScheduler: Broadcasting large task binary with size 6.4 MiB\n",
      "22/04/26 23:07:17 WARN DAGScheduler: Broadcasting large task binary with size 1006.8 KiB\n",
      "22/04/26 23:07:18 WARN DAGScheduler: Broadcasting large task binary with size 8.8 MiB\n",
      "22/04/26 23:07:19 WARN DAGScheduler: Broadcasting large task binary with size 1120.4 KiB\n",
      "22/04/26 23:07:20 WARN DAGScheduler: Broadcasting large task binary with size 5.1 MiB\n"
     ]
    },
    {
     "name": "stdout",
     "output_type": "stream",
     "text": [
      "\r",
      " 91%|███████▎| 91/100 [09:28<00:51,  5.77s/trial, best loss: -0.828692410087759]"
     ]
    },
    {
     "name": "stderr",
     "output_type": "stream",
     "text": [
      "22/04/26 23:07:21 WARN DAGScheduler: Broadcasting large task binary with size 1387.5 KiB\n",
      "22/04/26 23:07:22 WARN DAGScheduler: Broadcasting large task binary with size 2.1 MiB\n"
     ]
    },
    {
     "name": "stdout",
     "output_type": "stream",
     "text": [
      "\r",
      " 92%|███████▎| 92/100 [09:31<00:38,  4.83s/trial, best loss: -0.828692410087759]"
     ]
    },
    {
     "name": "stderr",
     "output_type": "stream",
     "text": [
      "22/04/26 23:07:22 WARN DAGScheduler: Broadcasting large task binary with size 1300.6 KiB\n"
     ]
    },
    {
     "name": "stdout",
     "output_type": "stream",
     "text": [
      "\r",
      " 93%|███████▍| 93/100 [09:32<00:27,  3.93s/trial, best loss: -0.828692410087759]"
     ]
    },
    {
     "name": "stderr",
     "output_type": "stream",
     "text": [
      "22/04/26 23:07:26 WARN DAGScheduler: Broadcasting large task binary with size 1366.8 KiB\n",
      "22/04/26 23:07:26 WARN DAGScheduler: Broadcasting large task binary with size 1976.1 KiB\n",
      "22/04/26 23:07:27 WARN DAGScheduler: Broadcasting large task binary with size 2.6 MiB\n",
      "22/04/26 23:07:27 WARN DAGScheduler: Broadcasting large task binary with size 3.4 MiB\n",
      "22/04/26 23:07:27 WARN DAGScheduler: Broadcasting large task binary with size 4.1 MiB\n",
      "22/04/26 23:07:28 WARN DAGScheduler: Broadcasting large task binary with size 4.7 MiB\n",
      "22/04/26 23:07:28 WARN DAGScheduler: Broadcasting large task binary with size 5.3 MiB\n",
      "22/04/26 23:07:29 WARN DAGScheduler: Broadcasting large task binary with size 5.6 MiB\n"
     ]
    },
    {
     "name": "stdout",
     "output_type": "stream",
     "text": [
      "\r",
      " 94%|███████▌| 94/100 [09:38<00:25,  4.33s/trial, best loss: -0.828692410087759]"
     ]
    },
    {
     "name": "stderr",
     "output_type": "stream",
     "text": [
      "22/04/26 23:07:29 WARN DAGScheduler: Broadcasting large task binary with size 3.2 MiB\n",
      "22/04/26 23:07:31 WARN DAGScheduler: Broadcasting large task binary with size 1472.5 KiB\n",
      "22/04/26 23:07:32 WARN DAGScheduler: Broadcasting large task binary with size 2.4 MiB\n",
      "22/04/26 23:07:33 WARN DAGScheduler: Broadcasting large task binary with size 3.7 MiB\n",
      "22/04/26 23:07:33 WARN DAGScheduler: Broadcasting large task binary with size 5.6 MiB\n",
      "22/04/26 23:07:35 WARN DAGScheduler: Broadcasting large task binary with size 7.8 MiB\n",
      "22/04/26 23:07:35 WARN DAGScheduler: Broadcasting large task binary with size 1020.8 KiB\n",
      "22/04/26 23:07:36 WARN DAGScheduler: Broadcasting large task binary with size 10.2 MiB\n",
      "22/04/26 23:07:36 WARN DAGScheduler: Broadcasting large task binary with size 1047.1 KiB\n",
      "22/04/26 23:07:37 WARN DAGScheduler: Broadcasting large task binary with size 12.5 MiB\n",
      "22/04/26 23:07:39 WARN DAGScheduler: Broadcasting large task binary with size 14.5 MiB\n",
      "22/04/26 23:07:41 WARN DAGScheduler: Broadcasting large task binary with size 16.1 MiB\n",
      "22/04/26 23:07:42 WARN DAGScheduler: Broadcasting large task binary with size 17.3 MiB\n",
      "22/04/26 23:07:44 WARN DAGScheduler: Broadcasting large task binary with size 18.1 MiB\n",
      "22/04/26 23:07:45 WARN DAGScheduler: Broadcasting large task binary with size 9.8 MiB\n"
     ]
    },
    {
     "name": "stdout",
     "output_type": "stream",
     "text": [
      "\r",
      " 95%|███████▌| 95/100 [09:54<00:39,  7.86s/trial, best loss: -0.828692410087759]"
     ]
    },
    {
     "name": "stderr",
     "output_type": "stream",
     "text": [
      "22/04/26 23:07:47 WARN DAGScheduler: Broadcasting large task binary with size 1271.8 KiB\n",
      "22/04/26 23:07:48 WARN DAGScheduler: Broadcasting large task binary with size 1826.2 KiB\n"
     ]
    },
    {
     "name": "stdout",
     "output_type": "stream",
     "text": [
      "\r",
      " 96%|███████▋| 96/100 [09:56<00:24,  6.23s/trial, best loss: -0.828692410087759]"
     ]
    },
    {
     "name": "stderr",
     "output_type": "stream",
     "text": [
      "22/04/26 23:07:48 WARN DAGScheduler: Broadcasting large task binary with size 1123.9 KiB\n"
     ]
    },
    {
     "name": "stdout",
     "output_type": "stream",
     "text": [
      "\r",
      " 97%|███████▊| 97/100 [09:58<00:14,  4.88s/trial, best loss: -0.828692410087759]"
     ]
    },
    {
     "name": "stderr",
     "output_type": "stream",
     "text": [
      "22/04/26 23:07:52 WARN DAGScheduler: Broadcasting large task binary with size 1358.4 KiB\n",
      "22/04/26 23:07:52 WARN DAGScheduler: Broadcasting large task binary with size 2.2 MiB\n",
      "22/04/26 23:07:53 WARN DAGScheduler: Broadcasting large task binary with size 3.4 MiB\n",
      "22/04/26 23:07:53 WARN DAGScheduler: Broadcasting large task binary with size 4.9 MiB\n",
      "22/04/26 23:07:55 WARN DAGScheduler: Broadcasting large task binary with size 6.8 MiB\n",
      "22/04/26 23:07:56 WARN DAGScheduler: Broadcasting large task binary with size 8.9 MiB\n",
      "22/04/26 23:07:57 WARN DAGScheduler: Broadcasting large task binary with size 11.0 MiB\n",
      "22/04/26 23:07:59 WARN DAGScheduler: Broadcasting large task binary with size 12.8 MiB\n",
      "22/04/26 23:08:00 WARN DAGScheduler: Broadcasting large task binary with size 14.3 MiB\n",
      "22/04/26 23:08:02 WARN DAGScheduler: Broadcasting large task binary with size 15.5 MiB\n",
      "22/04/26 23:08:03 WARN DAGScheduler: Broadcasting large task binary with size 16.3 MiB\n",
      "22/04/26 23:08:04 WARN DAGScheduler: Broadcasting large task binary with size 16.8 MiB\n",
      "22/04/26 23:08:06 WARN DAGScheduler: Broadcasting large task binary with size 17.0 MiB\n",
      "22/04/26 23:08:07 WARN DAGScheduler: Broadcasting large task binary with size 9.3 MiB\n"
     ]
    },
    {
     "name": "stdout",
     "output_type": "stream",
     "text": [
      "\r",
      " 98%|███████▊| 98/100 [10:16<00:17,  8.69s/trial, best loss: -0.828692410087759]"
     ]
    },
    {
     "name": "stderr",
     "output_type": "stream",
     "text": [
      "22/04/26 23:08:09 WARN DAGScheduler: Broadcasting large task binary with size 1097.5 KiB\n",
      "22/04/26 23:08:09 WARN DAGScheduler: Broadcasting large task binary with size 1668.9 KiB\n",
      "22/04/26 23:08:10 WARN DAGScheduler: Broadcasting large task binary with size 2.4 MiB\n"
     ]
    },
    {
     "name": "stdout",
     "output_type": "stream",
     "text": [
      "\r",
      " 99%|███████▉| 99/100 [10:19<00:07,  7.04s/trial, best loss: -0.828692410087759]"
     ]
    },
    {
     "name": "stderr",
     "output_type": "stream",
     "text": [
      "22/04/26 23:08:10 WARN DAGScheduler: Broadcasting large task binary with size 1452.6 KiB\n",
      "22/04/26 23:08:12 WARN DAGScheduler: Broadcasting large task binary with size 1059.1 KiB\n",
      "22/04/26 23:08:12 WARN DAGScheduler: Broadcasting large task binary with size 1731.8 KiB\n"
     ]
    },
    {
     "name": "stdout",
     "output_type": "stream",
     "text": [
      "100%|███████| 100/100 [10:22<00:00,  6.22s/trial, best loss: -0.828692410087759]\n"
     ]
    },
    {
     "name": "stderr",
     "output_type": "stream",
     "text": [
      "22/04/26 23:08:13 WARN DAGScheduler: Broadcasting large task binary with size 1047.6 KiB\n"
     ]
    }
   ],
   "source": [
    "best = fmin(random_forest_f1, space, algo=tpe.suggest, max_evals=100)"
   ]
  }
 ],
 "metadata": {
  "kernelspec": {
   "display_name": "telco",
   "language": "python",
   "name": "telco"
  },
  "language_info": {
   "codemirror_mode": {
    "name": "ipython",
    "version": 3
   },
   "file_extension": ".py",
   "mimetype": "text/x-python",
   "name": "python",
   "nbconvert_exporter": "python",
   "pygments_lexer": "ipython3",
   "version": "3.9.7"
  }
 },
 "nbformat": 4,
 "nbformat_minor": 5
}
